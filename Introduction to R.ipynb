{
 "cells": [
  {
   "cell_type": "code",
   "execution_count": 1,
   "metadata": {},
   "outputs": [],
   "source": [
    "# This is a notebook with codes/scripts used during the classes of\n",
    "# data analysis with R\n",
    "# Rodolfo Souza - rodolfomssouza@gmail.com"
   ]
  },
  {
   "cell_type": "code",
   "execution_count": 2,
   "metadata": {},
   "outputs": [],
   "source": [
    "# Introduction to R"
   ]
  },
  {
   "cell_type": "code",
   "execution_count": 3,
   "metadata": {},
   "outputs": [
    {
     "data": {
      "text/html": [
       "<ol class=list-inline>\n",
       "\t<li>1</li>\n",
       "\t<li>2</li>\n",
       "\t<li>3</li>\n",
       "\t<li>4</li>\n",
       "\t<li>5</li>\n",
       "\t<li>6</li>\n",
       "\t<li>7</li>\n",
       "\t<li>8</li>\n",
       "\t<li>9</li>\n",
       "</ol>\n"
      ],
      "text/latex": [
       "\\begin{enumerate*}\n",
       "\\item 1\n",
       "\\item 2\n",
       "\\item 3\n",
       "\\item 4\n",
       "\\item 5\n",
       "\\item 6\n",
       "\\item 7\n",
       "\\item 8\n",
       "\\item 9\n",
       "\\end{enumerate*}\n"
      ],
      "text/markdown": [
       "1. 1\n",
       "2. 2\n",
       "3. 3\n",
       "4. 4\n",
       "5. 5\n",
       "6. 6\n",
       "7. 7\n",
       "8. 8\n",
       "9. 9\n",
       "\n",
       "\n"
      ],
      "text/plain": [
       "[1] 1 2 3 4 5 6 7 8 9"
      ]
     },
     "metadata": {},
     "output_type": "display_data"
    }
   ],
   "source": [
    "# Elements in R -----------------------------------------------------------\n",
    "# Vector\n",
    "x1 = c(1, 2, 3, 4, 5, 6, 7, 8, 9)\n",
    "x1"
   ]
  },
  {
   "cell_type": "code",
   "execution_count": 4,
   "metadata": {},
   "outputs": [
    {
     "data": {
      "text/html": [
       "<ol class=list-inline>\n",
       "\t<li>1</li>\n",
       "\t<li>1.5</li>\n",
       "\t<li>2</li>\n",
       "\t<li>2.5</li>\n",
       "\t<li>3</li>\n",
       "\t<li>3.5</li>\n",
       "\t<li>4</li>\n",
       "\t<li>4.5</li>\n",
       "</ol>\n"
      ],
      "text/latex": [
       "\\begin{enumerate*}\n",
       "\\item 1\n",
       "\\item 1.5\n",
       "\\item 2\n",
       "\\item 2.5\n",
       "\\item 3\n",
       "\\item 3.5\n",
       "\\item 4\n",
       "\\item 4.5\n",
       "\\end{enumerate*}\n"
      ],
      "text/markdown": [
       "1. 1\n",
       "2. 1.5\n",
       "3. 2\n",
       "4. 2.5\n",
       "5. 3\n",
       "6. 3.5\n",
       "7. 4\n",
       "8. 4.5\n",
       "\n",
       "\n"
      ],
      "text/plain": [
       "[1] 1.0 1.5 2.0 2.5 3.0 3.5 4.0 4.5"
      ]
     },
     "metadata": {},
     "output_type": "display_data"
    }
   ],
   "source": [
    "# Sequence\n",
    "x2 = seq(1, 4.5, 0.5) # same of x2 = seq(from = 1, to = 4.5, by = 0.5)\n",
    "x2"
   ]
  },
  {
   "cell_type": "code",
   "execution_count": 5,
   "metadata": {},
   "outputs": [
    {
     "data": {
      "text/html": [
       "<ol class=list-inline>\n",
       "\t<li>'a'</li>\n",
       "\t<li>'a'</li>\n",
       "\t<li>'a'</li>\n",
       "\t<li>'a'</li>\n",
       "\t<li>'a'</li>\n",
       "</ol>\n"
      ],
      "text/latex": [
       "\\begin{enumerate*}\n",
       "\\item 'a'\n",
       "\\item 'a'\n",
       "\\item 'a'\n",
       "\\item 'a'\n",
       "\\item 'a'\n",
       "\\end{enumerate*}\n"
      ],
      "text/markdown": [
       "1. 'a'\n",
       "2. 'a'\n",
       "3. 'a'\n",
       "4. 'a'\n",
       "5. 'a'\n",
       "\n",
       "\n"
      ],
      "text/plain": [
       "[1] \"a\" \"a\" \"a\" \"a\" \"a\""
      ]
     },
     "metadata": {},
     "output_type": "display_data"
    }
   ],
   "source": [
    "# Repetition\n",
    "x3 = rep('a', 5)\n",
    "x3"
   ]
  },
  {
   "cell_type": "code",
   "execution_count": 6,
   "metadata": {},
   "outputs": [
    {
     "data": {
      "text/html": [
       "<ol class=list-inline>\n",
       "\t<li>1</li>\n",
       "\t<li>2</li>\n",
       "\t<li>3</li>\n",
       "\t<li>4</li>\n",
       "\t<li>5</li>\n",
       "\t<li>6</li>\n",
       "\t<li>7</li>\n",
       "\t<li>8</li>\n",
       "\t<li>9</li>\n",
       "\t<li>1</li>\n",
       "\t<li>2</li>\n",
       "\t<li>3</li>\n",
       "\t<li>4</li>\n",
       "\t<li>5</li>\n",
       "\t<li>6</li>\n",
       "\t<li>7</li>\n",
       "\t<li>8</li>\n",
       "\t<li>9</li>\n",
       "\t<li>1</li>\n",
       "\t<li>2</li>\n",
       "\t<li>3</li>\n",
       "\t<li>4</li>\n",
       "\t<li>5</li>\n",
       "\t<li>6</li>\n",
       "\t<li>7</li>\n",
       "\t<li>8</li>\n",
       "\t<li>9</li>\n",
       "</ol>\n"
      ],
      "text/latex": [
       "\\begin{enumerate*}\n",
       "\\item 1\n",
       "\\item 2\n",
       "\\item 3\n",
       "\\item 4\n",
       "\\item 5\n",
       "\\item 6\n",
       "\\item 7\n",
       "\\item 8\n",
       "\\item 9\n",
       "\\item 1\n",
       "\\item 2\n",
       "\\item 3\n",
       "\\item 4\n",
       "\\item 5\n",
       "\\item 6\n",
       "\\item 7\n",
       "\\item 8\n",
       "\\item 9\n",
       "\\item 1\n",
       "\\item 2\n",
       "\\item 3\n",
       "\\item 4\n",
       "\\item 5\n",
       "\\item 6\n",
       "\\item 7\n",
       "\\item 8\n",
       "\\item 9\n",
       "\\end{enumerate*}\n"
      ],
      "text/markdown": [
       "1. 1\n",
       "2. 2\n",
       "3. 3\n",
       "4. 4\n",
       "5. 5\n",
       "6. 6\n",
       "7. 7\n",
       "8. 8\n",
       "9. 9\n",
       "10. 1\n",
       "11. 2\n",
       "12. 3\n",
       "13. 4\n",
       "14. 5\n",
       "15. 6\n",
       "16. 7\n",
       "17. 8\n",
       "18. 9\n",
       "19. 1\n",
       "20. 2\n",
       "21. 3\n",
       "22. 4\n",
       "23. 5\n",
       "24. 6\n",
       "25. 7\n",
       "26. 8\n",
       "27. 9\n",
       "\n",
       "\n"
      ],
      "text/plain": [
       " [1] 1 2 3 4 5 6 7 8 9 1 2 3 4 5 6 7 8 9 1 2 3 4 5 6 7 8 9"
      ]
     },
     "metadata": {},
     "output_type": "display_data"
    }
   ],
   "source": [
    "x4 = rep(x1, 3)\n",
    "x4"
   ]
  },
  {
   "cell_type": "code",
   "execution_count": 7,
   "metadata": {},
   "outputs": [
    {
     "data": {
      "text/html": [
       "<ol class=list-inline>\n",
       "\t<li>1</li>\n",
       "\t<li>1</li>\n",
       "\t<li>1</li>\n",
       "\t<li>2</li>\n",
       "\t<li>2</li>\n",
       "\t<li>2</li>\n",
       "\t<li>3</li>\n",
       "\t<li>3</li>\n",
       "\t<li>3</li>\n",
       "\t<li>4</li>\n",
       "\t<li>4</li>\n",
       "\t<li>4</li>\n",
       "\t<li>5</li>\n",
       "\t<li>5</li>\n",
       "\t<li>5</li>\n",
       "\t<li>6</li>\n",
       "\t<li>6</li>\n",
       "\t<li>6</li>\n",
       "\t<li>7</li>\n",
       "\t<li>7</li>\n",
       "\t<li>7</li>\n",
       "\t<li>8</li>\n",
       "\t<li>8</li>\n",
       "\t<li>8</li>\n",
       "\t<li>9</li>\n",
       "\t<li>9</li>\n",
       "\t<li>9</li>\n",
       "</ol>\n"
      ],
      "text/latex": [
       "\\begin{enumerate*}\n",
       "\\item 1\n",
       "\\item 1\n",
       "\\item 1\n",
       "\\item 2\n",
       "\\item 2\n",
       "\\item 2\n",
       "\\item 3\n",
       "\\item 3\n",
       "\\item 3\n",
       "\\item 4\n",
       "\\item 4\n",
       "\\item 4\n",
       "\\item 5\n",
       "\\item 5\n",
       "\\item 5\n",
       "\\item 6\n",
       "\\item 6\n",
       "\\item 6\n",
       "\\item 7\n",
       "\\item 7\n",
       "\\item 7\n",
       "\\item 8\n",
       "\\item 8\n",
       "\\item 8\n",
       "\\item 9\n",
       "\\item 9\n",
       "\\item 9\n",
       "\\end{enumerate*}\n"
      ],
      "text/markdown": [
       "1. 1\n",
       "2. 1\n",
       "3. 1\n",
       "4. 2\n",
       "5. 2\n",
       "6. 2\n",
       "7. 3\n",
       "8. 3\n",
       "9. 3\n",
       "10. 4\n",
       "11. 4\n",
       "12. 4\n",
       "13. 5\n",
       "14. 5\n",
       "15. 5\n",
       "16. 6\n",
       "17. 6\n",
       "18. 6\n",
       "19. 7\n",
       "20. 7\n",
       "21. 7\n",
       "22. 8\n",
       "23. 8\n",
       "24. 8\n",
       "25. 9\n",
       "26. 9\n",
       "27. 9\n",
       "\n",
       "\n"
      ],
      "text/plain": [
       " [1] 1 1 1 2 2 2 3 3 3 4 4 4 5 5 5 6 6 6 7 7 7 8 8 8 9 9 9"
      ]
     },
     "metadata": {},
     "output_type": "display_data"
    }
   ],
   "source": [
    "x5 = rep(x1, each = 3)\n",
    "x5"
   ]
  },
  {
   "cell_type": "code",
   "execution_count": 8,
   "metadata": {},
   "outputs": [
    {
     "data": {
      "text/html": [
       "<table>\n",
       "<tbody>\n",
       "\t<tr><td>NA</td><td>NA</td><td>NA</td><td>NA</td><td>NA</td></tr>\n",
       "\t<tr><td>NA</td><td>NA</td><td>NA</td><td>NA</td><td>NA</td></tr>\n",
       "\t<tr><td>NA</td><td>NA</td><td>NA</td><td>NA</td><td>NA</td></tr>\n",
       "\t<tr><td>NA</td><td>NA</td><td>NA</td><td>NA</td><td>NA</td></tr>\n",
       "</tbody>\n",
       "</table>\n"
      ],
      "text/latex": [
       "\\begin{tabular}{lllll}\n",
       "\t NA & NA & NA & NA & NA\\\\\n",
       "\t NA & NA & NA & NA & NA\\\\\n",
       "\t NA & NA & NA & NA & NA\\\\\n",
       "\t NA & NA & NA & NA & NA\\\\\n",
       "\\end{tabular}\n"
      ],
      "text/markdown": [
       "\n",
       "| NA | NA | NA | NA | NA |\n",
       "| NA | NA | NA | NA | NA |\n",
       "| NA | NA | NA | NA | NA |\n",
       "| NA | NA | NA | NA | NA |\n",
       "\n"
      ],
      "text/plain": [
       "     [,1] [,2] [,3] [,4] [,5]\n",
       "[1,] NA   NA   NA   NA   NA  \n",
       "[2,] NA   NA   NA   NA   NA  \n",
       "[3,] NA   NA   NA   NA   NA  \n",
       "[4,] NA   NA   NA   NA   NA  "
      ]
     },
     "metadata": {},
     "output_type": "display_data"
    }
   ],
   "source": [
    "# Matrix\n",
    "m1 = matrix(ncol = 5, nrow = 4)\n",
    "m1"
   ]
  },
  {
   "cell_type": "code",
   "execution_count": 9,
   "metadata": {},
   "outputs": [
    {
     "data": {
      "text/html": [
       "<table>\n",
       "<tbody>\n",
       "\t<tr><td>1.000000</td><td>1.842105</td><td>2.684211</td><td>3.526316</td><td>4.368421</td></tr>\n",
       "\t<tr><td>1.210526</td><td>2.052632</td><td>2.894737</td><td>3.736842</td><td>4.578947</td></tr>\n",
       "\t<tr><td>1.421053</td><td>2.263158</td><td>3.105263</td><td>3.947368</td><td>4.789474</td></tr>\n",
       "\t<tr><td>1.631579</td><td>2.473684</td><td>3.315789</td><td>4.157895</td><td>5.000000</td></tr>\n",
       "</tbody>\n",
       "</table>\n"
      ],
      "text/latex": [
       "\\begin{tabular}{lllll}\n",
       "\t 1.000000 & 1.842105 & 2.684211 & 3.526316 & 4.368421\\\\\n",
       "\t 1.210526 & 2.052632 & 2.894737 & 3.736842 & 4.578947\\\\\n",
       "\t 1.421053 & 2.263158 & 3.105263 & 3.947368 & 4.789474\\\\\n",
       "\t 1.631579 & 2.473684 & 3.315789 & 4.157895 & 5.000000\\\\\n",
       "\\end{tabular}\n"
      ],
      "text/markdown": [
       "\n",
       "| 1.000000 | 1.842105 | 2.684211 | 3.526316 | 4.368421 |\n",
       "| 1.210526 | 2.052632 | 2.894737 | 3.736842 | 4.578947 |\n",
       "| 1.421053 | 2.263158 | 3.105263 | 3.947368 | 4.789474 |\n",
       "| 1.631579 | 2.473684 | 3.315789 | 4.157895 | 5.000000 |\n",
       "\n"
      ],
      "text/plain": [
       "     [,1]     [,2]     [,3]     [,4]     [,5]    \n",
       "[1,] 1.000000 1.842105 2.684211 3.526316 4.368421\n",
       "[2,] 1.210526 2.052632 2.894737 3.736842 4.578947\n",
       "[3,] 1.421053 2.263158 3.105263 3.947368 4.789474\n",
       "[4,] 1.631579 2.473684 3.315789 4.157895 5.000000"
      ]
     },
     "metadata": {},
     "output_type": "display_data"
    }
   ],
   "source": [
    "m2 = matrix(ncol = 5, nrow = 4, data = seq(1, 5, length=20))\n",
    "m2"
   ]
  },
  {
   "cell_type": "code",
   "execution_count": 10,
   "metadata": {},
   "outputs": [
    {
     "data": {
      "text/html": [
       "<table>\n",
       "<tbody>\n",
       "\t<tr><td>1.000000</td><td>1.210526</td><td>1.421053</td><td>1.631579</td><td>1.842105</td></tr>\n",
       "\t<tr><td>2.052632</td><td>2.263158</td><td>2.473684</td><td>2.684211</td><td>2.894737</td></tr>\n",
       "\t<tr><td>3.105263</td><td>3.315789</td><td>3.526316</td><td>3.736842</td><td>3.947368</td></tr>\n",
       "\t<tr><td>4.157895</td><td>4.368421</td><td>4.578947</td><td>4.789474</td><td>5.000000</td></tr>\n",
       "</tbody>\n",
       "</table>\n"
      ],
      "text/latex": [
       "\\begin{tabular}{lllll}\n",
       "\t 1.000000 & 1.210526 & 1.421053 & 1.631579 & 1.842105\\\\\n",
       "\t 2.052632 & 2.263158 & 2.473684 & 2.684211 & 2.894737\\\\\n",
       "\t 3.105263 & 3.315789 & 3.526316 & 3.736842 & 3.947368\\\\\n",
       "\t 4.157895 & 4.368421 & 4.578947 & 4.789474 & 5.000000\\\\\n",
       "\\end{tabular}\n"
      ],
      "text/markdown": [
       "\n",
       "| 1.000000 | 1.210526 | 1.421053 | 1.631579 | 1.842105 |\n",
       "| 2.052632 | 2.263158 | 2.473684 | 2.684211 | 2.894737 |\n",
       "| 3.105263 | 3.315789 | 3.526316 | 3.736842 | 3.947368 |\n",
       "| 4.157895 | 4.368421 | 4.578947 | 4.789474 | 5.000000 |\n",
       "\n"
      ],
      "text/plain": [
       "     [,1]     [,2]     [,3]     [,4]     [,5]    \n",
       "[1,] 1.000000 1.210526 1.421053 1.631579 1.842105\n",
       "[2,] 2.052632 2.263158 2.473684 2.684211 2.894737\n",
       "[3,] 3.105263 3.315789 3.526316 3.736842 3.947368\n",
       "[4,] 4.157895 4.368421 4.578947 4.789474 5.000000"
      ]
     },
     "metadata": {},
     "output_type": "display_data"
    }
   ],
   "source": [
    "m3 = matrix(ncol = 5, nrow = 4, byrow = T, data = seq(1, 5, length=20))\n",
    "m3"
   ]
  },
  {
   "cell_type": "code",
   "execution_count": 11,
   "metadata": {},
   "outputs": [
    {
     "data": {
      "text/html": [
       "'/home/rodolfo/Programming/R/Notebooks'"
      ],
      "text/latex": [
       "'/home/rodolfo/Programming/R/Notebooks'"
      ],
      "text/markdown": [
       "'/home/rodolfo/Programming/R/Notebooks'"
      ],
      "text/plain": [
       "[1] \"/home/rodolfo/Programming/R/Notebooks\""
      ]
     },
     "metadata": {},
     "output_type": "display_data"
    }
   ],
   "source": [
    "# Work directory ----------------------------------------------------------\n",
    "# Show work directory\n",
    "getwd()"
   ]
  },
  {
   "cell_type": "code",
   "execution_count": 12,
   "metadata": {},
   "outputs": [],
   "source": [
    "# Change work directory\n",
    "setwd('~/')                         # Returns to the root directory\n",
    "setwd('Programming/R/Notebooks')    # Enter in a new work direcory"
   ]
  },
  {
   "cell_type": "code",
   "execution_count": 13,
   "metadata": {},
   "outputs": [
    {
     "name": "stderr",
     "output_type": "stream",
     "text": [
      "Installing package into ‘/home/rodolfo/R/x86_64-redhat-linux-gnu-library/3.5’\n",
      "(as ‘lib’ is unspecified)\n",
      "Warning message:\n",
      "“package ‘fBascis’ is not available (for R version 3.5.3)”"
     ]
    }
   ],
   "source": [
    "# Packages ----------------------------------------------------------------\n",
    "# Install packages\n",
    "install.packages('fBascis', dep = T)"
   ]
  },
  {
   "cell_type": "code",
   "execution_count": 14,
   "metadata": {},
   "outputs": [
    {
     "name": "stderr",
     "output_type": "stream",
     "text": [
      "Loading required package: timeDate\n",
      "Loading required package: timeSeries\n",
      "Loading required package: hydroGOF\n",
      "Loading required package: zoo\n",
      "\n",
      "Attaching package: ‘zoo’\n",
      "\n",
      "The following object is masked from ‘package:timeSeries’:\n",
      "\n",
      "    time<-\n",
      "\n",
      "The following objects are masked from ‘package:base’:\n",
      "\n",
      "    as.Date, as.Date.numeric\n",
      "\n"
     ]
    }
   ],
   "source": [
    "# Load packages\n",
    "library('fBasics')          # library and require have the same result!\n",
    "require('hydroGOF')"
   ]
  },
  {
   "cell_type": "code",
   "execution_count": 15,
   "metadata": {},
   "outputs": [
    {
     "data": {
      "text/html": [
       "<ol class=list-inline>\n",
       "\t<li>7.66418245407847</li>\n",
       "\t<li>10.9305714885313</li>\n",
       "\t<li>10.854053492022</li>\n",
       "\t<li>10.5610566296955</li>\n",
       "\t<li>12.7693921841427</li>\n",
       "\t<li>8.45517930406535</li>\n",
       "\t<li>10.0224937003706</li>\n",
       "\t<li>8.44365538529203</li>\n",
       "\t<li>11.7563152233888</li>\n",
       "\t<li>6.66871626104164</li>\n",
       "\t<li>11.5436124013447</li>\n",
       "\t<li>12.5969567714166</li>\n",
       "\t<li>8.92725560771549</li>\n",
       "\t<li>9.61973804561664</li>\n",
       "\t<li>12.3792505330298</li>\n",
       "\t<li>8.08620846550144</li>\n",
       "\t<li>9.39722386071267</li>\n",
       "\t<li>9.11605851961295</li>\n",
       "\t<li>11.62011514986</li>\n",
       "\t<li>6.95025913993023</li>\n",
       "\t<li>9.22806376455441</li>\n",
       "\t<li>11.4623555654798</li>\n",
       "\t<li>8.42365767305194</li>\n",
       "\t<li>10.3721177677907</li>\n",
       "\t<li>9.00645815026731</li>\n",
       "\t<li>9.71004443790137</li>\n",
       "\t<li>8.90417785233418</li>\n",
       "\t<li>12.8224808607579</li>\n",
       "\t<li>12.0462396685966</li>\n",
       "\t<li>11.1710025274515</li>\n",
       "</ol>\n"
      ],
      "text/latex": [
       "\\begin{enumerate*}\n",
       "\\item 7.66418245407847\n",
       "\\item 10.9305714885313\n",
       "\\item 10.854053492022\n",
       "\\item 10.5610566296955\n",
       "\\item 12.7693921841427\n",
       "\\item 8.45517930406535\n",
       "\\item 10.0224937003706\n",
       "\\item 8.44365538529203\n",
       "\\item 11.7563152233888\n",
       "\\item 6.66871626104164\n",
       "\\item 11.5436124013447\n",
       "\\item 12.5969567714166\n",
       "\\item 8.92725560771549\n",
       "\\item 9.61973804561664\n",
       "\\item 12.3792505330298\n",
       "\\item 8.08620846550144\n",
       "\\item 9.39722386071267\n",
       "\\item 9.11605851961295\n",
       "\\item 11.62011514986\n",
       "\\item 6.95025913993023\n",
       "\\item 9.22806376455441\n",
       "\\item 11.4623555654798\n",
       "\\item 8.42365767305194\n",
       "\\item 10.3721177677907\n",
       "\\item 9.00645815026731\n",
       "\\item 9.71004443790137\n",
       "\\item 8.90417785233418\n",
       "\\item 12.8224808607579\n",
       "\\item 12.0462396685966\n",
       "\\item 11.1710025274515\n",
       "\\end{enumerate*}\n"
      ],
      "text/markdown": [
       "1. 7.66418245407847\n",
       "2. 10.9305714885313\n",
       "3. 10.854053492022\n",
       "4. 10.5610566296955\n",
       "5. 12.7693921841427\n",
       "6. 8.45517930406535\n",
       "7. 10.0224937003706\n",
       "8. 8.44365538529203\n",
       "9. 11.7563152233888\n",
       "10. 6.66871626104164\n",
       "11. 11.5436124013447\n",
       "12. 12.5969567714166\n",
       "13. 8.92725560771549\n",
       "14. 9.61973804561664\n",
       "15. 12.3792505330298\n",
       "16. 8.08620846550144\n",
       "17. 9.39722386071267\n",
       "18. 9.11605851961295\n",
       "19. 11.62011514986\n",
       "20. 6.95025913993023\n",
       "21. 9.22806376455441\n",
       "22. 11.4623555654798\n",
       "23. 8.42365767305194\n",
       "24. 10.3721177677907\n",
       "25. 9.00645815026731\n",
       "26. 9.71004443790137\n",
       "27. 8.90417785233418\n",
       "28. 12.8224808607579\n",
       "29. 12.0462396685966\n",
       "30. 11.1710025274515\n",
       "\n",
       "\n"
      ],
      "text/plain": [
       " [1]  7.664182 10.930571 10.854053 10.561057 12.769392  8.455179 10.022494\n",
       " [8]  8.443655 11.756315  6.668716 11.543612 12.596957  8.927256  9.619738\n",
       "[15] 12.379251  8.086208  9.397224  9.116059 11.620115  6.950259  9.228064\n",
       "[22] 11.462356  8.423658 10.372118  9.006458  9.710044  8.904178 12.822481\n",
       "[29] 12.046240 11.171003"
      ]
     },
     "metadata": {},
     "output_type": "display_data"
    }
   ],
   "source": [
    "# Data in R ---------------------------------------------------------------\n",
    "# Create random data following a normal distribution\n",
    "xr1 = rnorm(n = 30, mean = 10, sd = 2)\n",
    "xr1"
   ]
  },
  {
   "cell_type": "code",
   "execution_count": 16,
   "metadata": {},
   "outputs": [],
   "source": [
    "# Read a table\n",
    "df1 = read.table('GEOR_2016_120_Data.txt', h = T)"
   ]
  },
  {
   "cell_type": "code",
   "execution_count": 17,
   "metadata": {},
   "outputs": [
    {
     "data": {
      "text/html": [
       "<table>\n",
       "<thead><tr><th scope=col>X</th><th scope=col>Y</th><th scope=col>ThetaS</th><th scope=col>ThetaAvb</th><th scope=col>PhiMicro</th><th scope=col>PhiMeso</th><th scope=col>PhiMacro</th><th scope=col>Ds</th><th scope=col>S0</th></tr></thead>\n",
       "<tbody>\n",
       "\t<tr><td>436550 </td><td>9106770</td><td>0.33   </td><td>0.106  </td><td>62.65  </td><td>11.56  </td><td>25.79  </td><td>1.51   </td><td>0.3288 </td></tr>\n",
       "\t<tr><td>436629 </td><td>9106770</td><td>0.35   </td><td>0.117  </td><td>56.85  </td><td>13.35  </td><td>29.80  </td><td>1.57   </td><td>0.4254 </td></tr>\n",
       "\t<tr><td>436709 </td><td>9106752</td><td>0.48   </td><td>0.141  </td><td>80.11  </td><td> 8.22  </td><td>11.67  </td><td>1.39   </td><td>0.2916 </td></tr>\n",
       "\t<tr><td>436790 </td><td>9106760</td><td>0.50   </td><td>0.124  </td><td>79.04  </td><td> 7.17  </td><td>13.79  </td><td>1.21   </td><td>0.5414 </td></tr>\n",
       "\t<tr><td>436861 </td><td>9106760</td><td>0.49   </td><td>0.110  </td><td>79.09  </td><td> 6.48  </td><td>14.43  </td><td>1.35   </td><td>0.2831 </td></tr>\n",
       "</tbody>\n",
       "</table>\n"
      ],
      "text/latex": [
       "\\begin{tabular}{r|lllllllll}\n",
       " X & Y & ThetaS & ThetaAvb & PhiMicro & PhiMeso & PhiMacro & Ds & S0\\\\\n",
       "\\hline\n",
       "\t 436550  & 9106770 & 0.33    & 0.106   & 62.65   & 11.56   & 25.79   & 1.51    & 0.3288 \\\\\n",
       "\t 436629  & 9106770 & 0.35    & 0.117   & 56.85   & 13.35   & 29.80   & 1.57    & 0.4254 \\\\\n",
       "\t 436709  & 9106752 & 0.48    & 0.141   & 80.11   &  8.22   & 11.67   & 1.39    & 0.2916 \\\\\n",
       "\t 436790  & 9106760 & 0.50    & 0.124   & 79.04   &  7.17   & 13.79   & 1.21    & 0.5414 \\\\\n",
       "\t 436861  & 9106760 & 0.49    & 0.110   & 79.09   &  6.48   & 14.43   & 1.35    & 0.2831 \\\\\n",
       "\\end{tabular}\n"
      ],
      "text/markdown": [
       "\n",
       "| X | Y | ThetaS | ThetaAvb | PhiMicro | PhiMeso | PhiMacro | Ds | S0 |\n",
       "|---|---|---|---|---|---|---|---|---|\n",
       "| 436550  | 9106770 | 0.33    | 0.106   | 62.65   | 11.56   | 25.79   | 1.51    | 0.3288  |\n",
       "| 436629  | 9106770 | 0.35    | 0.117   | 56.85   | 13.35   | 29.80   | 1.57    | 0.4254  |\n",
       "| 436709  | 9106752 | 0.48    | 0.141   | 80.11   |  8.22   | 11.67   | 1.39    | 0.2916  |\n",
       "| 436790  | 9106760 | 0.50    | 0.124   | 79.04   |  7.17   | 13.79   | 1.21    | 0.5414  |\n",
       "| 436861  | 9106760 | 0.49    | 0.110   | 79.09   |  6.48   | 14.43   | 1.35    | 0.2831  |\n",
       "\n"
      ],
      "text/plain": [
       "  X      Y       ThetaS ThetaAvb PhiMicro PhiMeso PhiMacro Ds   S0    \n",
       "1 436550 9106770 0.33   0.106    62.65    11.56   25.79    1.51 0.3288\n",
       "2 436629 9106770 0.35   0.117    56.85    13.35   29.80    1.57 0.4254\n",
       "3 436709 9106752 0.48   0.141    80.11     8.22   11.67    1.39 0.2916\n",
       "4 436790 9106760 0.50   0.124    79.04     7.17   13.79    1.21 0.5414\n",
       "5 436861 9106760 0.49   0.110    79.09     6.48   14.43    1.35 0.2831"
      ]
     },
     "metadata": {},
     "output_type": "display_data"
    }
   ],
   "source": [
    "head(df1[1:9], n = 5)    # Show the first five elements of the colunms 1 to 9"
   ]
  },
  {
   "cell_type": "code",
   "execution_count": 18,
   "metadata": {},
   "outputs": [
    {
     "data": {
      "text/html": [
       "<ol class=list-inline>\n",
       "\t<li>0.33</li>\n",
       "\t<li>0.35</li>\n",
       "\t<li>0.48</li>\n",
       "\t<li>0.5</li>\n",
       "\t<li>0.49</li>\n",
       "\t<li>0.36</li>\n",
       "\t<li>0.42</li>\n",
       "\t<li>0.43</li>\n",
       "\t<li>0.46</li>\n",
       "\t<li>0.51</li>\n",
       "\t<li>0.39</li>\n",
       "\t<li>0.5</li>\n",
       "\t<li>0.5</li>\n",
       "\t<li>0.44</li>\n",
       "\t<li>0.5</li>\n",
       "\t<li>0.34</li>\n",
       "\t<li>0.43</li>\n",
       "\t<li>0.5</li>\n",
       "\t<li>0.45</li>\n",
       "\t<li>0.52</li>\n",
       "\t<li>0.41</li>\n",
       "\t<li>0.35</li>\n",
       "\t<li>0.47</li>\n",
       "\t<li>0.49</li>\n",
       "\t<li>0.54</li>\n",
       "\t<li>0.37</li>\n",
       "\t<li>0.38</li>\n",
       "\t<li>0.46</li>\n",
       "\t<li>0.47</li>\n",
       "\t<li>0.49</li>\n",
       "</ol>\n"
      ],
      "text/latex": [
       "\\begin{enumerate*}\n",
       "\\item 0.33\n",
       "\\item 0.35\n",
       "\\item 0.48\n",
       "\\item 0.5\n",
       "\\item 0.49\n",
       "\\item 0.36\n",
       "\\item 0.42\n",
       "\\item 0.43\n",
       "\\item 0.46\n",
       "\\item 0.51\n",
       "\\item 0.39\n",
       "\\item 0.5\n",
       "\\item 0.5\n",
       "\\item 0.44\n",
       "\\item 0.5\n",
       "\\item 0.34\n",
       "\\item 0.43\n",
       "\\item 0.5\n",
       "\\item 0.45\n",
       "\\item 0.52\n",
       "\\item 0.41\n",
       "\\item 0.35\n",
       "\\item 0.47\n",
       "\\item 0.49\n",
       "\\item 0.54\n",
       "\\item 0.37\n",
       "\\item 0.38\n",
       "\\item 0.46\n",
       "\\item 0.47\n",
       "\\item 0.49\n",
       "\\end{enumerate*}\n"
      ],
      "text/markdown": [
       "1. 0.33\n",
       "2. 0.35\n",
       "3. 0.48\n",
       "4. 0.5\n",
       "5. 0.49\n",
       "6. 0.36\n",
       "7. 0.42\n",
       "8. 0.43\n",
       "9. 0.46\n",
       "10. 0.51\n",
       "11. 0.39\n",
       "12. 0.5\n",
       "13. 0.5\n",
       "14. 0.44\n",
       "15. 0.5\n",
       "16. 0.34\n",
       "17. 0.43\n",
       "18. 0.5\n",
       "19. 0.45\n",
       "20. 0.52\n",
       "21. 0.41\n",
       "22. 0.35\n",
       "23. 0.47\n",
       "24. 0.49\n",
       "25. 0.54\n",
       "26. 0.37\n",
       "27. 0.38\n",
       "28. 0.46\n",
       "29. 0.47\n",
       "30. 0.49\n",
       "\n",
       "\n"
      ],
      "text/plain": [
       " [1] 0.33 0.35 0.48 0.50 0.49 0.36 0.42 0.43 0.46 0.51 0.39 0.50 0.50 0.44 0.50\n",
       "[16] 0.34 0.43 0.50 0.45 0.52 0.41 0.35 0.47 0.49 0.54 0.37 0.38 0.46 0.47 0.49"
      ]
     },
     "metadata": {},
     "output_type": "display_data"
    }
   ],
   "source": [
    "# Access variable from dataframe\n",
    "df1$ThetaS    # Use the \"$\" symbol to access a column by its name"
   ]
  },
  {
   "cell_type": "code",
   "execution_count": 19,
   "metadata": {},
   "outputs": [
    {
     "data": {
      "text/html": [
       "<table>\n",
       "<thead><tr><th scope=col>ThetaS</th></tr></thead>\n",
       "<tbody>\n",
       "\t<tr><td>0.33</td></tr>\n",
       "\t<tr><td>0.35</td></tr>\n",
       "\t<tr><td>0.48</td></tr>\n",
       "\t<tr><td>0.50</td></tr>\n",
       "\t<tr><td>0.49</td></tr>\n",
       "\t<tr><td>0.36</td></tr>\n",
       "\t<tr><td>0.42</td></tr>\n",
       "\t<tr><td>0.43</td></tr>\n",
       "\t<tr><td>0.46</td></tr>\n",
       "\t<tr><td>0.51</td></tr>\n",
       "\t<tr><td>0.39</td></tr>\n",
       "\t<tr><td>0.50</td></tr>\n",
       "\t<tr><td>0.50</td></tr>\n",
       "\t<tr><td>0.44</td></tr>\n",
       "\t<tr><td>0.50</td></tr>\n",
       "\t<tr><td>0.34</td></tr>\n",
       "\t<tr><td>0.43</td></tr>\n",
       "\t<tr><td>0.50</td></tr>\n",
       "\t<tr><td>0.45</td></tr>\n",
       "\t<tr><td>0.52</td></tr>\n",
       "\t<tr><td>0.41</td></tr>\n",
       "\t<tr><td>0.35</td></tr>\n",
       "\t<tr><td>0.47</td></tr>\n",
       "\t<tr><td>0.49</td></tr>\n",
       "\t<tr><td>0.54</td></tr>\n",
       "\t<tr><td>0.37</td></tr>\n",
       "\t<tr><td>0.38</td></tr>\n",
       "\t<tr><td>0.46</td></tr>\n",
       "\t<tr><td>0.47</td></tr>\n",
       "\t<tr><td>0.49</td></tr>\n",
       "</tbody>\n",
       "</table>\n"
      ],
      "text/latex": [
       "\\begin{tabular}{r|l}\n",
       " ThetaS\\\\\n",
       "\\hline\n",
       "\t 0.33\\\\\n",
       "\t 0.35\\\\\n",
       "\t 0.48\\\\\n",
       "\t 0.50\\\\\n",
       "\t 0.49\\\\\n",
       "\t 0.36\\\\\n",
       "\t 0.42\\\\\n",
       "\t 0.43\\\\\n",
       "\t 0.46\\\\\n",
       "\t 0.51\\\\\n",
       "\t 0.39\\\\\n",
       "\t 0.50\\\\\n",
       "\t 0.50\\\\\n",
       "\t 0.44\\\\\n",
       "\t 0.50\\\\\n",
       "\t 0.34\\\\\n",
       "\t 0.43\\\\\n",
       "\t 0.50\\\\\n",
       "\t 0.45\\\\\n",
       "\t 0.52\\\\\n",
       "\t 0.41\\\\\n",
       "\t 0.35\\\\\n",
       "\t 0.47\\\\\n",
       "\t 0.49\\\\\n",
       "\t 0.54\\\\\n",
       "\t 0.37\\\\\n",
       "\t 0.38\\\\\n",
       "\t 0.46\\\\\n",
       "\t 0.47\\\\\n",
       "\t 0.49\\\\\n",
       "\\end{tabular}\n"
      ],
      "text/markdown": [
       "\n",
       "| ThetaS |\n",
       "|---|\n",
       "| 0.33 |\n",
       "| 0.35 |\n",
       "| 0.48 |\n",
       "| 0.50 |\n",
       "| 0.49 |\n",
       "| 0.36 |\n",
       "| 0.42 |\n",
       "| 0.43 |\n",
       "| 0.46 |\n",
       "| 0.51 |\n",
       "| 0.39 |\n",
       "| 0.50 |\n",
       "| 0.50 |\n",
       "| 0.44 |\n",
       "| 0.50 |\n",
       "| 0.34 |\n",
       "| 0.43 |\n",
       "| 0.50 |\n",
       "| 0.45 |\n",
       "| 0.52 |\n",
       "| 0.41 |\n",
       "| 0.35 |\n",
       "| 0.47 |\n",
       "| 0.49 |\n",
       "| 0.54 |\n",
       "| 0.37 |\n",
       "| 0.38 |\n",
       "| 0.46 |\n",
       "| 0.47 |\n",
       "| 0.49 |\n",
       "\n"
      ],
      "text/plain": [
       "   ThetaS\n",
       "1  0.33  \n",
       "2  0.35  \n",
       "3  0.48  \n",
       "4  0.50  \n",
       "5  0.49  \n",
       "6  0.36  \n",
       "7  0.42  \n",
       "8  0.43  \n",
       "9  0.46  \n",
       "10 0.51  \n",
       "11 0.39  \n",
       "12 0.50  \n",
       "13 0.50  \n",
       "14 0.44  \n",
       "15 0.50  \n",
       "16 0.34  \n",
       "17 0.43  \n",
       "18 0.50  \n",
       "19 0.45  \n",
       "20 0.52  \n",
       "21 0.41  \n",
       "22 0.35  \n",
       "23 0.47  \n",
       "24 0.49  \n",
       "25 0.54  \n",
       "26 0.37  \n",
       "27 0.38  \n",
       "28 0.46  \n",
       "29 0.47  \n",
       "30 0.49  "
      ]
     },
     "metadata": {},
     "output_type": "display_data"
    }
   ],
   "source": [
    "df1[3]    # A different way to access the same column"
   ]
  },
  {
   "cell_type": "code",
   "execution_count": 20,
   "metadata": {},
   "outputs": [
    {
     "data": {
      "text/html": [
       "<ol class=list-inline>\n",
       "\t<li>'X'</li>\n",
       "\t<li>'Y'</li>\n",
       "\t<li>'ThetaS'</li>\n",
       "\t<li>'ThetaAvb'</li>\n",
       "\t<li>'PhiMicro'</li>\n",
       "\t<li>'PhiMeso'</li>\n",
       "\t<li>'PhiMacro'</li>\n",
       "\t<li>'Ds'</li>\n",
       "\t<li>'S0'</li>\n",
       "\t<li>'Ks'</li>\n",
       "\t<li>'Clay'</li>\n",
       "\t<li>'Silt'</li>\n",
       "\t<li>'Sand'</li>\n",
       "\t<li>'CSC'</li>\n",
       "\t<li>'MSC'</li>\n",
       "\t<li>'FSC'</li>\n",
       "\t<li>'idS'</li>\n",
       "\t<li>'Class'</li>\n",
       "</ol>\n"
      ],
      "text/latex": [
       "\\begin{enumerate*}\n",
       "\\item 'X'\n",
       "\\item 'Y'\n",
       "\\item 'ThetaS'\n",
       "\\item 'ThetaAvb'\n",
       "\\item 'PhiMicro'\n",
       "\\item 'PhiMeso'\n",
       "\\item 'PhiMacro'\n",
       "\\item 'Ds'\n",
       "\\item 'S0'\n",
       "\\item 'Ks'\n",
       "\\item 'Clay'\n",
       "\\item 'Silt'\n",
       "\\item 'Sand'\n",
       "\\item 'CSC'\n",
       "\\item 'MSC'\n",
       "\\item 'FSC'\n",
       "\\item 'idS'\n",
       "\\item 'Class'\n",
       "\\end{enumerate*}\n"
      ],
      "text/markdown": [
       "1. 'X'\n",
       "2. 'Y'\n",
       "3. 'ThetaS'\n",
       "4. 'ThetaAvb'\n",
       "5. 'PhiMicro'\n",
       "6. 'PhiMeso'\n",
       "7. 'PhiMacro'\n",
       "8. 'Ds'\n",
       "9. 'S0'\n",
       "10. 'Ks'\n",
       "11. 'Clay'\n",
       "12. 'Silt'\n",
       "13. 'Sand'\n",
       "14. 'CSC'\n",
       "15. 'MSC'\n",
       "16. 'FSC'\n",
       "17. 'idS'\n",
       "18. 'Class'\n",
       "\n",
       "\n"
      ],
      "text/plain": [
       " [1] \"X\"        \"Y\"        \"ThetaS\"   \"ThetaAvb\" \"PhiMicro\" \"PhiMeso\" \n",
       " [7] \"PhiMacro\" \"Ds\"       \"S0\"       \"Ks\"       \"Clay\"     \"Silt\"    \n",
       "[13] \"Sand\"     \"CSC\"      \"MSC\"      \"FSC\"      \"idS\"      \"Class\"   "
      ]
     },
     "metadata": {},
     "output_type": "display_data"
    }
   ],
   "source": [
    "# Names of all columns of the dataframe\n",
    "names(df1)"
   ]
  },
  {
   "cell_type": "code",
   "execution_count": 21,
   "metadata": {},
   "outputs": [
    {
     "data": {
      "text/html": [
       "18"
      ],
      "text/latex": [
       "18"
      ],
      "text/markdown": [
       "18"
      ],
      "text/plain": [
       "[1] 18"
      ]
     },
     "metadata": {},
     "output_type": "display_data"
    }
   ],
   "source": [
    "# Number of columns of the dataframe\n",
    "length(df1)"
   ]
  },
  {
   "cell_type": "code",
   "execution_count": 22,
   "metadata": {},
   "outputs": [],
   "source": [
    "# Attach data from dataframe to R\n",
    "attach(df1)"
   ]
  },
  {
   "cell_type": "code",
   "execution_count": 23,
   "metadata": {},
   "outputs": [
    {
     "data": {
      "text/html": [
       "<ol class=list-inline>\n",
       "\t<li>0.33</li>\n",
       "\t<li>0.35</li>\n",
       "\t<li>0.48</li>\n",
       "\t<li>0.5</li>\n",
       "\t<li>0.49</li>\n",
       "\t<li>0.36</li>\n",
       "\t<li>0.42</li>\n",
       "\t<li>0.43</li>\n",
       "\t<li>0.46</li>\n",
       "\t<li>0.51</li>\n",
       "\t<li>0.39</li>\n",
       "\t<li>0.5</li>\n",
       "\t<li>0.5</li>\n",
       "\t<li>0.44</li>\n",
       "\t<li>0.5</li>\n",
       "\t<li>0.34</li>\n",
       "\t<li>0.43</li>\n",
       "\t<li>0.5</li>\n",
       "\t<li>0.45</li>\n",
       "\t<li>0.52</li>\n",
       "\t<li>0.41</li>\n",
       "\t<li>0.35</li>\n",
       "\t<li>0.47</li>\n",
       "\t<li>0.49</li>\n",
       "\t<li>0.54</li>\n",
       "\t<li>0.37</li>\n",
       "\t<li>0.38</li>\n",
       "\t<li>0.46</li>\n",
       "\t<li>0.47</li>\n",
       "\t<li>0.49</li>\n",
       "</ol>\n"
      ],
      "text/latex": [
       "\\begin{enumerate*}\n",
       "\\item 0.33\n",
       "\\item 0.35\n",
       "\\item 0.48\n",
       "\\item 0.5\n",
       "\\item 0.49\n",
       "\\item 0.36\n",
       "\\item 0.42\n",
       "\\item 0.43\n",
       "\\item 0.46\n",
       "\\item 0.51\n",
       "\\item 0.39\n",
       "\\item 0.5\n",
       "\\item 0.5\n",
       "\\item 0.44\n",
       "\\item 0.5\n",
       "\\item 0.34\n",
       "\\item 0.43\n",
       "\\item 0.5\n",
       "\\item 0.45\n",
       "\\item 0.52\n",
       "\\item 0.41\n",
       "\\item 0.35\n",
       "\\item 0.47\n",
       "\\item 0.49\n",
       "\\item 0.54\n",
       "\\item 0.37\n",
       "\\item 0.38\n",
       "\\item 0.46\n",
       "\\item 0.47\n",
       "\\item 0.49\n",
       "\\end{enumerate*}\n"
      ],
      "text/markdown": [
       "1. 0.33\n",
       "2. 0.35\n",
       "3. 0.48\n",
       "4. 0.5\n",
       "5. 0.49\n",
       "6. 0.36\n",
       "7. 0.42\n",
       "8. 0.43\n",
       "9. 0.46\n",
       "10. 0.51\n",
       "11. 0.39\n",
       "12. 0.5\n",
       "13. 0.5\n",
       "14. 0.44\n",
       "15. 0.5\n",
       "16. 0.34\n",
       "17. 0.43\n",
       "18. 0.5\n",
       "19. 0.45\n",
       "20. 0.52\n",
       "21. 0.41\n",
       "22. 0.35\n",
       "23. 0.47\n",
       "24. 0.49\n",
       "25. 0.54\n",
       "26. 0.37\n",
       "27. 0.38\n",
       "28. 0.46\n",
       "29. 0.47\n",
       "30. 0.49\n",
       "\n",
       "\n"
      ],
      "text/plain": [
       " [1] 0.33 0.35 0.48 0.50 0.49 0.36 0.42 0.43 0.46 0.51 0.39 0.50 0.50 0.44 0.50\n",
       "[16] 0.34 0.43 0.50 0.45 0.52 0.41 0.35 0.47 0.49 0.54 0.37 0.38 0.46 0.47 0.49"
      ]
     },
     "metadata": {},
     "output_type": "display_data"
    }
   ],
   "source": [
    "ThetaS    # Now \"ThetaS\" exists in R"
   ]
  },
  {
   "cell_type": "code",
   "execution_count": 24,
   "metadata": {},
   "outputs": [],
   "source": [
    "# Pivot table -------------------------------------------------------------"
   ]
  },
  {
   "cell_type": "code",
   "execution_count": null,
   "metadata": {},
   "outputs": [],
   "source": []
  },
  {
   "cell_type": "code",
   "execution_count": null,
   "metadata": {},
   "outputs": [],
   "source": []
  },
  {
   "cell_type": "code",
   "execution_count": null,
   "metadata": {},
   "outputs": [],
   "source": []
  },
  {
   "cell_type": "code",
   "execution_count": null,
   "metadata": {},
   "outputs": [],
   "source": []
  },
  {
   "cell_type": "code",
   "execution_count": null,
   "metadata": {},
   "outputs": [],
   "source": []
  },
  {
   "cell_type": "code",
   "execution_count": null,
   "metadata": {},
   "outputs": [],
   "source": []
  },
  {
   "cell_type": "code",
   "execution_count": null,
   "metadata": {},
   "outputs": [],
   "source": []
  }
 ],
 "metadata": {
  "kernelspec": {
   "display_name": "R",
   "language": "R",
   "name": "ir"
  },
  "language_info": {
   "codemirror_mode": "r",
   "file_extension": ".r",
   "mimetype": "text/x-r-source",
   "name": "R",
   "pygments_lexer": "r",
   "version": "3.5.3"
  }
 },
 "nbformat": 4,
 "nbformat_minor": 2
}
