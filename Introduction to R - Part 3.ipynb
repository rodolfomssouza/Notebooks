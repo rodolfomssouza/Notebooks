{
 "cells": [
  {
   "cell_type": "code",
   "execution_count": null,
   "metadata": {},
   "outputs": [],
   "source": [
    "# This is a notebook with codes/scripts used during the classes of\n",
    "# data analysis with R\n",
    "# Rodolfo Souza - rodolfomssouza@gmail.com"
   ]
  },
  {
   "cell_type": "code",
   "execution_count": null,
   "metadata": {},
   "outputs": [],
   "source": [
    "# Introduction to R - Part 3"
   ]
  },
  {
   "cell_type": "code",
   "execution_count": null,
   "metadata": {},
   "outputs": [],
   "source": [
    "# Functions ---------------------------------------------------------------"
   ]
  },
  {
   "cell_type": "code",
   "execution_count": null,
   "metadata": {},
   "outputs": [],
   "source": [
    "f1 = function(x, y){\n",
    "    z = x^2/y^0.5\n",
    "    return(z)\n",
    "}"
   ]
  },
  {
   "cell_type": "code",
   "execution_count": null,
   "metadata": {},
   "outputs": [],
   "source": [
    "f1(4, 5)"
   ]
  },
  {
   "cell_type": "code",
   "execution_count": null,
   "metadata": {},
   "outputs": [],
   "source": [
    "f1(5, 4)"
   ]
  },
  {
   "cell_type": "code",
   "execution_count": null,
   "metadata": {},
   "outputs": [],
   "source": [
    "# Conditions --------------------------------------------------------------"
   ]
  },
  {
   "cell_type": "code",
   "execution_count": null,
   "metadata": {},
   "outputs": [],
   "source": [
    "# Two conditions\n",
    "x = 4\n",
    "\n",
    "if(x<=3){print('X is small')}else{print('X is large')}\n",
    "\n",
    "if(x<=3){x^2}else{x/2}     # Maths"
   ]
  },
  {
   "cell_type": "code",
   "execution_count": null,
   "metadata": {},
   "outputs": [],
   "source": [
    "# Conditions with ifelse\n",
    "ifelse(x<=30,  # Test the condition\n",
    "       x^2,    # if yes\n",
    "       x^0.5)  # if not"
   ]
  },
  {
   "cell_type": "code",
   "execution_count": null,
   "metadata": {},
   "outputs": [],
   "source": [
    "# More than two conditions\n",
    "x = -10\n",
    "if(x<=2){                    # if x <= 2, do x^2\n",
    "    x^2}else if(x>2 & x<=5){ # if x > 2 and x <= 5, do x^3\n",
    "        x^3\n",
    "    }else{x/2}               # otherwise (x > 5), do x/2\n",
    "\n",
    "# Test with other values of x!"
   ]
  },
  {
   "cell_type": "code",
   "execution_count": null,
   "metadata": {},
   "outputs": [],
   "source": [
    "# Loops for ---------------------------------------------------------------\n",
    "\n",
    "# without a \"loop\"\n",
    "x = 1:15\n",
    "2*x"
   ]
  },
  {
   "cell_type": "code",
   "execution_count": null,
   "metadata": {},
   "outputs": [],
   "source": [
    "x = rnorm(15, 0,1)\n",
    "# Simple loop\n",
    "for(i in 1:length(x)){\n",
    "    print(2*x[i])\n",
    "}"
   ]
  },
  {
   "cell_type": "code",
   "execution_count": null,
   "metadata": {},
   "outputs": [],
   "source": [
    "# Nested loop\n",
    "m = matrix(data=1:25, ncol=5, nrow=5)\n",
    "m\n",
    "\n",
    "for(i in 1:length(m[1,])){\n",
    "    for(j in 1:length(m[,1])){\n",
    "        if(i==j){print(m[i,j])}\n",
    "    }\n",
    "}"
   ]
  },
  {
   "cell_type": "code",
   "execution_count": null,
   "metadata": {},
   "outputs": [],
   "source": [
    "# Function, loops and conditions ------------------------------------------\n",
    "Itcp = function(R, Rth){\n",
    "    # R is the rain\n",
    "    # Rth is a threshold value\n",
    "    nr = length(R)      # Number or \"runs\"\n",
    "    y = rep(NA, nr)     # Vector will receive the results\n",
    "    for(i in 1:nr){\n",
    "        if(R[i]<=Rth){y[i]=R[i]}\n",
    "        else{y[i]=Rth}\n",
    "    }\n",
    "    return(y)\n",
    "}\n",
    "\n",
    "# Run the function\n",
    "x = seq(0, 30, 0.1)\n",
    "y = Itcp(R=x, Rth=5)"
   ]
  },
  {
   "cell_type": "code",
   "execution_count": null,
   "metadata": {},
   "outputs": [],
   "source": [
    "# Graphic\n",
    "par(mfrow=c(1,2), las=1, family='serif')\n",
    "\n",
    "# Rain vs interception\n",
    "plot(x, y, type='l', lwd=2, col='blue',\n",
    "     xlab='Rain (mm)', ylab='Interception (mm)')\n",
    "\n",
    "# Rain vs %rain intercepted\n",
    "plot(x, 100*(y/x), type='l', lwd=2, col='blue',\n",
    "     xlab='Rain (mm)', ylab='% Rain intercepted')"
   ]
  }
 ],
 "metadata": {
  "kernelspec": {
   "display_name": "R",
   "language": "R",
   "name": "ir"
  },
  "language_info": {
   "codemirror_mode": "r",
   "file_extension": ".r",
   "mimetype": "text/x-r-source",
   "name": "R",
   "pygments_lexer": "r",
   "version": "3.5.3"
  }
 },
 "nbformat": 4,
 "nbformat_minor": 2
}
