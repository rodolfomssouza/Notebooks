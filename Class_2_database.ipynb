{
 "cells": [
  {
   "cell_type": "code",
   "execution_count": 1,
   "metadata": {},
   "outputs": [],
   "source": [
    "# Análise de Dados Aplicada à Produção Vegetal\n",
    "# Rodolfo Souza - rodolfomssouza@gmail.com\n",
    "# Aula 2 - Organizando base de dados do INMET"
   ]
  },
  {
   "cell_type": "code",
   "execution_count": 2,
   "metadata": {},
   "outputs": [],
   "source": [
    "# Função ------------------------------------------------------------------\n",
    "INMETf = function(data){\n",
    "    # Resolvendo as datas\n",
    "    dates = as.character(data[,1])\n",
    "    d0 = dates[1]\n",
    "    d1 = dates[length(dates)] # tail(dates,1)\n",
    "    mnt = c(substr(d0,4,6), substr(d1,4,6))\n",
    "    mntc = NA\n",
    "    \n",
    "    for(i in 1:length(mnt)){\n",
    "        if(mnt[i]=='JAN'){mntc[i]='01'}\n",
    "        else if(mnt[i]=='FEV'){mntc[i]='02'}\n",
    "        else if(mnt[i]=='MAR'){mntc[i]='03'}\n",
    "        else if(mnt[i]=='ABR'){mntc[i]='04'}\n",
    "        else if(mnt[i]=='MAI'){mntc[i]='05'}\n",
    "        else if(mnt[i]=='JUN'){mntc[i]='06'}\n",
    "        else if(mnt[i]=='JUL'){mntc[i]='07'}\n",
    "        else if(mnt[i]=='AGO'){mntc[i]='08'}\n",
    "        else if(mnt[i]=='SET'){mntc[i]='09'}\n",
    "        else if(mnt[i]=='OUT'){mntc[i]='10'}\n",
    "        else if(mnt[i]=='NOV'){mntc[i]='11'}\n",
    "        else{mntc[i]='12'}\n",
    "    }\n",
    "    \n",
    "    d0 = paste(substr(d0,8,11), mntc[1], substr(d0,1,2), sep='-')\n",
    "    d1 = paste(substr(d1,8,11), mntc[2], substr(d1,1,2), sep='-')\n",
    "    \n",
    "    # Datas\n",
    "    date.seq = seq(as.Date(d0), as.Date(d1), 'days')\n",
    "    date.seq = rep(date.seq, each=24)\n",
    "    \n",
    "    # Horas\n",
    "    time.seq = 0:23\n",
    "    time.seq = rep(time.seq, length(dates))\n",
    "    \n",
    "    # Número de variáveis\n",
    "    nvar = (length(data)-1)/24\n",
    "    mtx = matrix(nrow = length(time.seq), ncol=(2+nvar))\n",
    "    mtx[,1] = as.character(date.seq)\n",
    "    mtx[,2] = as.character(time.seq)\n",
    "    \n",
    "    id = 2:25\n",
    "    varnames=NA\n",
    "    for(i in 1:nvar){\n",
    "        varnames[i] = names(data[id])[1]\n",
    "        x = as.matrix(data[id])\n",
    "        mtx[,(i+2)] = as.numeric(as.vector(t(x)))\n",
    "        id = id+24\n",
    "    }\n",
    "    \n",
    "    colnames(mtx) = c('Data', 'Hora', varnames)\n",
    "    org.data = as.data.frame(mtx)\n",
    "    return(org.data)\n",
    "}\n"
   ]
  },
  {
   "cell_type": "code",
   "execution_count": 3,
   "metadata": {},
   "outputs": [],
   "source": [
    "# Diretório de trabalho ---------------------------------------------------\n",
    "setwd('~/')\n",
    "setwd('Programming/R/Curso_R_PGPV/')\n"
   ]
  },
  {
   "cell_type": "code",
   "execution_count": 4,
   "metadata": {},
   "outputs": [
    {
     "name": "stderr",
     "output_type": "stream",
     "text": [
      "Warning message in INMETf(data.raw):\n",
      "“NAs introduced by coercion”Warning message in INMETf(data.raw):\n",
      "“NAs introduced by coercion”Warning message in INMETf(data.raw):\n",
      "“NAs introduced by coercion”Warning message in INMETf(data.raw):\n",
      "“NAs introduced by coercion”Warning message in INMETf(data.raw):\n",
      "“NAs introduced by coercion”"
     ]
    }
   ],
   "source": [
    "# Dados -------------------------------------------------------------------\n",
    "# Carregando dados\n",
    "data.raw = read.csv('MessyData.csv', h=T)\n",
    "\n",
    "# Ajustando dados\n",
    "data2 = INMETf(data.raw)\n"
   ]
  },
  {
   "cell_type": "code",
   "execution_count": 5,
   "metadata": {},
   "outputs": [
    {
     "data": {
      "text/html": [
       "<table>\n",
       "<thead><tr><th scope=col>Data</th><th scope=col>Vento0</th><th scope=col>Vento1</th><th scope=col>Vento2</th><th scope=col>Vento3</th><th scope=col>Vento4</th><th scope=col>Vento5</th><th scope=col>Vento6</th><th scope=col>Vento7</th><th scope=col>Vento8</th><th scope=col>⋯</th><th scope=col>Prs14</th><th scope=col>Prs15</th><th scope=col>Prs16</th><th scope=col>Prs17</th><th scope=col>Prs18</th><th scope=col>Prs19</th><th scope=col>Prs20</th><th scope=col>Prs21</th><th scope=col>Prs22</th><th scope=col>Prs23</th></tr></thead>\n",
       "<tbody>\n",
       "\t<tr><td>01-JAN-2012</td><td>0.9        </td><td>1.2        </td><td>2.8        </td><td>1.1        </td><td>1.8        </td><td>0.3        </td><td>1.8        </td><td>1.6        </td><td>2.4        </td><td>⋯          </td><td>956.5      </td><td>955.8      </td><td>954.9      </td><td>953.8      </td><td>952.9      </td><td>952.6      </td><td>952.7      </td><td>953.1      </td><td>953.7      </td><td>954.5      </td></tr>\n",
       "\t<tr><td>02-JAN-2012</td><td>2.3        </td><td>1.8        </td><td>5.6        </td><td>6.4        </td><td>4.3        </td><td>4.3        </td><td>3.5        </td><td>4.4        </td><td>4.1        </td><td>⋯          </td><td>955.5      </td><td>954.6      </td><td>953.9      </td><td>952.9      </td><td>952.1      </td><td>951.8      </td><td>952.1      </td><td>952.7      </td><td>953.3      </td><td>953.8      </td></tr>\n",
       "\t<tr><td>03-JAN-2012</td><td>2.1        </td><td>6.3        </td><td>2.5        </td><td>3.6        </td><td>3.3        </td><td>3.4        </td><td>3          </td><td>3.7        </td><td>1.7        </td><td>⋯          </td><td>955.4      </td><td>954.7      </td><td>953.8      </td><td>953.0      </td><td>952.5      </td><td>952.4      </td><td>952.6      </td><td>953.2      </td><td>953.9      </td><td>954.7      </td></tr>\n",
       "\t<tr><td>04-JAN-2012</td><td>1.4        </td><td>0.9        </td><td>2.8        </td><td>3.5        </td><td>4.2        </td><td>3.1        </td><td>1.1        </td><td>2          </td><td>1.6        </td><td>⋯          </td><td>956.5      </td><td>955.6      </td><td>954.5      </td><td>953.5      </td><td>952.8      </td><td>952.6      </td><td>952.7      </td><td>953.3      </td><td>954.3      </td><td>955.1      </td></tr>\n",
       "\t<tr><td>05-JAN-2012</td><td>0.9        </td><td>0.7        </td><td>2.8        </td><td>3.4        </td><td>3.6        </td><td>2          </td><td>1.4        </td><td>1.4        </td><td>2.3        </td><td>⋯          </td><td>957.0      </td><td>956.4      </td><td>955.5      </td><td>954.3      </td><td>953.4      </td><td>952.9      </td><td>953.0      </td><td>954.0      </td><td>954.1      </td><td>955.1      </td></tr>\n",
       "\t<tr><td>06-JAN-2012</td><td>1.7        </td><td>2.5        </td><td>2.4        </td><td>3.3        </td><td>0.8        </td><td>3.5        </td><td>2.5        </td><td>2.7        </td><td>1.9        </td><td>⋯          </td><td>957.2      </td><td>956.2      </td><td>955.3      </td><td>954.4      </td><td>953.5      </td><td>953.2      </td><td>953.2      </td><td>953.3      </td><td>953.7      </td><td>954.4      </td></tr>\n",
       "</tbody>\n",
       "</table>\n"
      ],
      "text/latex": [
       "\\begin{tabular}{r|lllllllllllllllllllllllllllllllllllllllllllllllllllllllllllllllllllllllllllllllllllllllllllllllllllllllllllllllllllllllll}\n",
       " Data & Vento0 & Vento1 & Vento2 & Vento3 & Vento4 & Vento5 & Vento6 & Vento7 & Vento8 & ⋯ & Prs14 & Prs15 & Prs16 & Prs17 & Prs18 & Prs19 & Prs20 & Prs21 & Prs22 & Prs23\\\\\n",
       "\\hline\n",
       "\t 01-JAN-2012 & 0.9         & 1.2         & 2.8         & 1.1         & 1.8         & 0.3         & 1.8         & 1.6         & 2.4         & ⋯           & 956.5       & 955.8       & 954.9       & 953.8       & 952.9       & 952.6       & 952.7       & 953.1       & 953.7       & 954.5      \\\\\n",
       "\t 02-JAN-2012 & 2.3         & 1.8         & 5.6         & 6.4         & 4.3         & 4.3         & 3.5         & 4.4         & 4.1         & ⋯           & 955.5       & 954.6       & 953.9       & 952.9       & 952.1       & 951.8       & 952.1       & 952.7       & 953.3       & 953.8      \\\\\n",
       "\t 03-JAN-2012 & 2.1         & 6.3         & 2.5         & 3.6         & 3.3         & 3.4         & 3           & 3.7         & 1.7         & ⋯           & 955.4       & 954.7       & 953.8       & 953.0       & 952.5       & 952.4       & 952.6       & 953.2       & 953.9       & 954.7      \\\\\n",
       "\t 04-JAN-2012 & 1.4         & 0.9         & 2.8         & 3.5         & 4.2         & 3.1         & 1.1         & 2           & 1.6         & ⋯           & 956.5       & 955.6       & 954.5       & 953.5       & 952.8       & 952.6       & 952.7       & 953.3       & 954.3       & 955.1      \\\\\n",
       "\t 05-JAN-2012 & 0.9         & 0.7         & 2.8         & 3.4         & 3.6         & 2           & 1.4         & 1.4         & 2.3         & ⋯           & 957.0       & 956.4       & 955.5       & 954.3       & 953.4       & 952.9       & 953.0       & 954.0       & 954.1       & 955.1      \\\\\n",
       "\t 06-JAN-2012 & 1.7         & 2.5         & 2.4         & 3.3         & 0.8         & 3.5         & 2.5         & 2.7         & 1.9         & ⋯           & 957.2       & 956.2       & 955.3       & 954.4       & 953.5       & 953.2       & 953.2       & 953.3       & 953.7       & 954.4      \\\\\n",
       "\\end{tabular}\n"
      ],
      "text/markdown": [
       "\n",
       "Data | Vento0 | Vento1 | Vento2 | Vento3 | Vento4 | Vento5 | Vento6 | Vento7 | Vento8 | ⋯ | Prs14 | Prs15 | Prs16 | Prs17 | Prs18 | Prs19 | Prs20 | Prs21 | Prs22 | Prs23 | \n",
       "|---|---|---|---|---|---|\n",
       "| 01-JAN-2012 | 0.9         | 1.2         | 2.8         | 1.1         | 1.8         | 0.3         | 1.8         | 1.6         | 2.4         | ⋯           | 956.5       | 955.8       | 954.9       | 953.8       | 952.9       | 952.6       | 952.7       | 953.1       | 953.7       | 954.5       | \n",
       "| 02-JAN-2012 | 2.3         | 1.8         | 5.6         | 6.4         | 4.3         | 4.3         | 3.5         | 4.4         | 4.1         | ⋯           | 955.5       | 954.6       | 953.9       | 952.9       | 952.1       | 951.8       | 952.1       | 952.7       | 953.3       | 953.8       | \n",
       "| 03-JAN-2012 | 2.1         | 6.3         | 2.5         | 3.6         | 3.3         | 3.4         | 3           | 3.7         | 1.7         | ⋯           | 955.4       | 954.7       | 953.8       | 953.0       | 952.5       | 952.4       | 952.6       | 953.2       | 953.9       | 954.7       | \n",
       "| 04-JAN-2012 | 1.4         | 0.9         | 2.8         | 3.5         | 4.2         | 3.1         | 1.1         | 2           | 1.6         | ⋯           | 956.5       | 955.6       | 954.5       | 953.5       | 952.8       | 952.6       | 952.7       | 953.3       | 954.3       | 955.1       | \n",
       "| 05-JAN-2012 | 0.9         | 0.7         | 2.8         | 3.4         | 3.6         | 2           | 1.4         | 1.4         | 2.3         | ⋯           | 957.0       | 956.4       | 955.5       | 954.3       | 953.4       | 952.9       | 953.0       | 954.0       | 954.1       | 955.1       | \n",
       "| 06-JAN-2012 | 1.7         | 2.5         | 2.4         | 3.3         | 0.8         | 3.5         | 2.5         | 2.7         | 1.9         | ⋯           | 957.2       | 956.2       | 955.3       | 954.4       | 953.5       | 953.2       | 953.2       | 953.3       | 953.7       | 954.4       | \n",
       "\n",
       "\n"
      ],
      "text/plain": [
       "  Data        Vento0 Vento1 Vento2 Vento3 Vento4 Vento5 Vento6 Vento7 Vento8 ⋯\n",
       "1 01-JAN-2012 0.9    1.2    2.8    1.1    1.8    0.3    1.8    1.6    2.4    ⋯\n",
       "2 02-JAN-2012 2.3    1.8    5.6    6.4    4.3    4.3    3.5    4.4    4.1    ⋯\n",
       "3 03-JAN-2012 2.1    6.3    2.5    3.6    3.3    3.4    3      3.7    1.7    ⋯\n",
       "4 04-JAN-2012 1.4    0.9    2.8    3.5    4.2    3.1    1.1    2      1.6    ⋯\n",
       "5 05-JAN-2012 0.9    0.7    2.8    3.4    3.6    2      1.4    1.4    2.3    ⋯\n",
       "6 06-JAN-2012 1.7    2.5    2.4    3.3    0.8    3.5    2.5    2.7    1.9    ⋯\n",
       "  Prs14 Prs15 Prs16 Prs17 Prs18 Prs19 Prs20 Prs21 Prs22 Prs23\n",
       "1 956.5 955.8 954.9 953.8 952.9 952.6 952.7 953.1 953.7 954.5\n",
       "2 955.5 954.6 953.9 952.9 952.1 951.8 952.1 952.7 953.3 953.8\n",
       "3 955.4 954.7 953.8 953.0 952.5 952.4 952.6 953.2 953.9 954.7\n",
       "4 956.5 955.6 954.5 953.5 952.8 952.6 952.7 953.3 954.3 955.1\n",
       "5 957.0 956.4 955.5 954.3 953.4 952.9 953.0 954.0 954.1 955.1\n",
       "6 957.2 956.2 955.3 954.4 953.5 953.2 953.2 953.3 953.7 954.4"
      ]
     },
     "metadata": {},
     "output_type": "display_data"
    }
   ],
   "source": [
    "# Olhando dados antes da organização\n",
    "head(data.raw)"
   ]
  },
  {
   "cell_type": "code",
   "execution_count": 6,
   "metadata": {},
   "outputs": [
    {
     "data": {
      "text/html": [
       "<table>\n",
       "<thead><tr><th scope=col>Data</th><th scope=col>Hora</th><th scope=col>Vento0</th><th scope=col>Chuva0</th><th scope=col>Tar0</th><th scope=col>UR0</th><th scope=col>Prs0</th></tr></thead>\n",
       "<tbody>\n",
       "\t<tr><td>2012-01-01</td><td>0         </td><td>0.9       </td><td>0         </td><td>27.3      </td><td>37        </td><td>954       </td></tr>\n",
       "\t<tr><td>2012-01-01</td><td>1         </td><td>1.2       </td><td>0         </td><td>28.4      </td><td>33        </td><td>954.8     </td></tr>\n",
       "\t<tr><td>2012-01-01</td><td>2         </td><td>2.8       </td><td>0         </td><td>27.7      </td><td>43        </td><td>955.1     </td></tr>\n",
       "\t<tr><td>2012-01-01</td><td>3         </td><td>1.1       </td><td>0         </td><td>26.2      </td><td>51        </td><td>955.3     </td></tr>\n",
       "\t<tr><td>2012-01-01</td><td>4         </td><td>1.8       </td><td>0         </td><td>25.1      </td><td>58        </td><td>954.9     </td></tr>\n",
       "\t<tr><td>2012-01-01</td><td>5         </td><td>0.3       </td><td>0         </td><td>22.8      </td><td>68        </td><td>955.1     </td></tr>\n",
       "</tbody>\n",
       "</table>\n"
      ],
      "text/latex": [
       "\\begin{tabular}{r|lllllll}\n",
       " Data & Hora & Vento0 & Chuva0 & Tar0 & UR0 & Prs0\\\\\n",
       "\\hline\n",
       "\t 2012-01-01 & 0          & 0.9        & 0          & 27.3       & 37         & 954       \\\\\n",
       "\t 2012-01-01 & 1          & 1.2        & 0          & 28.4       & 33         & 954.8     \\\\\n",
       "\t 2012-01-01 & 2          & 2.8        & 0          & 27.7       & 43         & 955.1     \\\\\n",
       "\t 2012-01-01 & 3          & 1.1        & 0          & 26.2       & 51         & 955.3     \\\\\n",
       "\t 2012-01-01 & 4          & 1.8        & 0          & 25.1       & 58         & 954.9     \\\\\n",
       "\t 2012-01-01 & 5          & 0.3        & 0          & 22.8       & 68         & 955.1     \\\\\n",
       "\\end{tabular}\n"
      ],
      "text/markdown": [
       "\n",
       "Data | Hora | Vento0 | Chuva0 | Tar0 | UR0 | Prs0 | \n",
       "|---|---|---|---|---|---|\n",
       "| 2012-01-01 | 0          | 0.9        | 0          | 27.3       | 37         | 954        | \n",
       "| 2012-01-01 | 1          | 1.2        | 0          | 28.4       | 33         | 954.8      | \n",
       "| 2012-01-01 | 2          | 2.8        | 0          | 27.7       | 43         | 955.1      | \n",
       "| 2012-01-01 | 3          | 1.1        | 0          | 26.2       | 51         | 955.3      | \n",
       "| 2012-01-01 | 4          | 1.8        | 0          | 25.1       | 58         | 954.9      | \n",
       "| 2012-01-01 | 5          | 0.3        | 0          | 22.8       | 68         | 955.1      | \n",
       "\n",
       "\n"
      ],
      "text/plain": [
       "  Data       Hora Vento0 Chuva0 Tar0 UR0 Prs0 \n",
       "1 2012-01-01 0    0.9    0      27.3 37  954  \n",
       "2 2012-01-01 1    1.2    0      28.4 33  954.8\n",
       "3 2012-01-01 2    2.8    0      27.7 43  955.1\n",
       "4 2012-01-01 3    1.1    0      26.2 51  955.3\n",
       "5 2012-01-01 4    1.8    0      25.1 58  954.9\n",
       "6 2012-01-01 5    0.3    0      22.8 68  955.1"
      ]
     },
     "metadata": {},
     "output_type": "display_data"
    }
   ],
   "source": [
    "# Olhando dados após a organização\n",
    "head(data2)"
   ]
  },
  {
   "cell_type": "code",
   "execution_count": 7,
   "metadata": {},
   "outputs": [],
   "source": [
    "# Salvando os dados ajustados\n",
    "write.csv(data2, file = 'Data_organized.csv')"
   ]
  }
 ],
 "metadata": {
  "kernelspec": {
   "display_name": "R",
   "language": "R",
   "name": "ir"
  },
  "language_info": {
   "codemirror_mode": "r",
   "file_extension": ".r",
   "mimetype": "text/x-r-source",
   "name": "R",
   "pygments_lexer": "r",
   "version": "3.5.0"
  }
 },
 "nbformat": 4,
 "nbformat_minor": 2
}
