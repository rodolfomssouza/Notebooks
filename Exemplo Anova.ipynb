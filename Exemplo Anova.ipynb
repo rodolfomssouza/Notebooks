{
 "cells": [
  {
   "cell_type": "markdown",
   "metadata": {},
   "source": [
    "# Exemplo gráfico de ANOVA com teste de Tukey e gráficos de barras\n",
    "\n",
    "\n",
    "Experimento hipotético realizado em esquema fatorial com dois fatores em delineamento inteiramente casualizado com quatro repetições. O fator 1 é o ambiente (Caatinga e Pastagem) e o fator 2 é a presença e ausência serrapilheira.\n",
    "\n",
    "Fazer análise de variância aplicando o teste de Tukey e apresentar os resultados na forma de gráfico de barras.\n"
   ]
  },
  {
   "cell_type": "code",
   "execution_count": 1,
   "metadata": {},
   "outputs": [
    {
     "name": "stderr",
     "output_type": "stream",
     "text": [
      "\n",
      "Attaching package: ‘ExpDes.pt’\n",
      "\n",
      "The following object is masked from ‘package:stats’:\n",
      "\n",
      "    ccf\n",
      "\n",
      "Loading required package: viridisLite\n"
     ]
    }
   ],
   "source": [
    "# Pacotes ---------------------------------------------------------------\n",
    "library('ExpDes.pt')\n",
    "library('viridis')"
   ]
  },
  {
   "cell_type": "code",
   "execution_count": 2,
   "metadata": {},
   "outputs": [
    {
     "data": {
      "text/html": [
       "<table>\n",
       "<caption>A data.frame: 16 × 4</caption>\n",
       "<thead>\n",
       "\t<tr><th scope=col>Ambiente</th><th scope=col>Cobertura</th><th scope=col>reps</th><th scope=col>VaRes</th></tr>\n",
       "\t<tr><th scope=col>&lt;fct&gt;</th><th scope=col>&lt;fct&gt;</th><th scope=col>&lt;int&gt;</th><th scope=col>&lt;dbl&gt;</th></tr>\n",
       "</thead>\n",
       "<tbody>\n",
       "\t<tr><td>Caat</td><td>SEM</td><td>1</td><td>20.5333</td></tr>\n",
       "\t<tr><td>Caat</td><td>SEM</td><td>2</td><td>26.2000</td></tr>\n",
       "\t<tr><td>Caat</td><td>SEM</td><td>3</td><td>27.2000</td></tr>\n",
       "\t<tr><td>Caat</td><td>SEM</td><td>4</td><td>27.8667</td></tr>\n",
       "\t<tr><td>Caat</td><td>COM</td><td>1</td><td>31.1333</td></tr>\n",
       "\t<tr><td>Caat</td><td>COM</td><td>2</td><td>41.0667</td></tr>\n",
       "\t<tr><td>Caat</td><td>COM</td><td>3</td><td>36.8000</td></tr>\n",
       "\t<tr><td>Caat</td><td>COM</td><td>4</td><td>29.0000</td></tr>\n",
       "\t<tr><td>Past</td><td>SEM</td><td>1</td><td>15.6000</td></tr>\n",
       "\t<tr><td>Past</td><td>SEM</td><td>2</td><td>17.9000</td></tr>\n",
       "\t<tr><td>Past</td><td>SEM</td><td>3</td><td>15.8000</td></tr>\n",
       "\t<tr><td>Past</td><td>SEM</td><td>4</td><td>12.4000</td></tr>\n",
       "\t<tr><td>Past</td><td>COM</td><td>1</td><td>12.2000</td></tr>\n",
       "\t<tr><td>Past</td><td>COM</td><td>2</td><td>15.6000</td></tr>\n",
       "\t<tr><td>Past</td><td>COM</td><td>3</td><td>16.4000</td></tr>\n",
       "\t<tr><td>Past</td><td>COM</td><td>4</td><td>16.9000</td></tr>\n",
       "</tbody>\n",
       "</table>\n"
      ],
      "text/latex": [
       "A data.frame: 16 × 4\n",
       "\\begin{tabular}{r|llll}\n",
       " Ambiente & Cobertura & reps & VaRes\\\\\n",
       " <fct> & <fct> & <int> & <dbl>\\\\\n",
       "\\hline\n",
       "\t Caat & SEM & 1 & 20.5333\\\\\n",
       "\t Caat & SEM & 2 & 26.2000\\\\\n",
       "\t Caat & SEM & 3 & 27.2000\\\\\n",
       "\t Caat & SEM & 4 & 27.8667\\\\\n",
       "\t Caat & COM & 1 & 31.1333\\\\\n",
       "\t Caat & COM & 2 & 41.0667\\\\\n",
       "\t Caat & COM & 3 & 36.8000\\\\\n",
       "\t Caat & COM & 4 & 29.0000\\\\\n",
       "\t Past & SEM & 1 & 15.6000\\\\\n",
       "\t Past & SEM & 2 & 17.9000\\\\\n",
       "\t Past & SEM & 3 & 15.8000\\\\\n",
       "\t Past & SEM & 4 & 12.4000\\\\\n",
       "\t Past & COM & 1 & 12.2000\\\\\n",
       "\t Past & COM & 2 & 15.6000\\\\\n",
       "\t Past & COM & 3 & 16.4000\\\\\n",
       "\t Past & COM & 4 & 16.9000\\\\\n",
       "\\end{tabular}\n"
      ],
      "text/markdown": [
       "\n",
       "A data.frame: 16 × 4\n",
       "\n",
       "| Ambiente &lt;fct&gt; | Cobertura &lt;fct&gt; | reps &lt;int&gt; | VaRes &lt;dbl&gt; |\n",
       "|---|---|---|---|\n",
       "| Caat | SEM | 1 | 20.5333 |\n",
       "| Caat | SEM | 2 | 26.2000 |\n",
       "| Caat | SEM | 3 | 27.2000 |\n",
       "| Caat | SEM | 4 | 27.8667 |\n",
       "| Caat | COM | 1 | 31.1333 |\n",
       "| Caat | COM | 2 | 41.0667 |\n",
       "| Caat | COM | 3 | 36.8000 |\n",
       "| Caat | COM | 4 | 29.0000 |\n",
       "| Past | SEM | 1 | 15.6000 |\n",
       "| Past | SEM | 2 | 17.9000 |\n",
       "| Past | SEM | 3 | 15.8000 |\n",
       "| Past | SEM | 4 | 12.4000 |\n",
       "| Past | COM | 1 | 12.2000 |\n",
       "| Past | COM | 2 | 15.6000 |\n",
       "| Past | COM | 3 | 16.4000 |\n",
       "| Past | COM | 4 | 16.9000 |\n",
       "\n"
      ],
      "text/plain": [
       "   Ambiente Cobertura reps VaRes  \n",
       "1  Caat     SEM       1    20.5333\n",
       "2  Caat     SEM       2    26.2000\n",
       "3  Caat     SEM       3    27.2000\n",
       "4  Caat     SEM       4    27.8667\n",
       "5  Caat     COM       1    31.1333\n",
       "6  Caat     COM       2    41.0667\n",
       "7  Caat     COM       3    36.8000\n",
       "8  Caat     COM       4    29.0000\n",
       "9  Past     SEM       1    15.6000\n",
       "10 Past     SEM       2    17.9000\n",
       "11 Past     SEM       3    15.8000\n",
       "12 Past     SEM       4    12.4000\n",
       "13 Past     COM       1    12.2000\n",
       "14 Past     COM       2    15.6000\n",
       "15 Past     COM       3    16.4000\n",
       "16 Past     COM       4    16.9000"
      ]
     },
     "metadata": {},
     "output_type": "display_data"
    }
   ],
   "source": [
    "# Dados -----------------------------------------------------------------\n",
    "df = read.csv('Data_Anova.csv', h=T)\n",
    "df"
   ]
  },
  {
   "cell_type": "code",
   "execution_count": 3,
   "metadata": {},
   "outputs": [
    {
     "name": "stdout",
     "output_type": "stream",
     "text": [
      "------------------------------------------------------------------------\n",
      "Legenda:\n",
      "FATOR 1:  Ambiente \n",
      "FATOR 2:  Cobertura \n",
      "------------------------------------------------------------------------\n",
      "\n",
      "\n",
      "Quadro da analise de variancia\n",
      "------------------------------------------------------------------------\n",
      "                   GL      SQ     QM     Fc     Pr>Fc\n",
      "Ambiente            1  855.56 855.56 67.301 0.0000029\n",
      "Cobertura           1   79.21  79.21  6.231 0.0281124\n",
      "Ambiente*Cobertura  1   84.64  84.64  6.658 0.0240841\n",
      "Residuo            12  152.55  12.71                 \n",
      "Total              15 1171.96                        \n",
      "------------------------------------------------------------------------\n",
      "CV = 15.73 %\n",
      "\n",
      "------------------------------------------------------------------------\n",
      "Teste de normalidade dos residuos (Shapiro-Wilk)\n",
      "valor-p:  0.2635604 \n",
      "De acordo com o teste de Shapiro-Wilk a 5% de significancia, os residuos podem ser considerados normais.\n",
      "------------------------------------------------------------------------\n",
      "\n",
      "\n",
      "\n",
      "Interacao significativa: desdobrando a interacao\n",
      "------------------------------------------------------------------------\n",
      "\n",
      "Desdobrando  Ambiente  dentro de cada nivel de  Cobertura \n",
      "------------------------------------------------------------------------\n",
      "------------------------------------------------------------------------\n",
      "Quadro da analise de variancia\n",
      "------------------------------------------------------------------------\n",
      "                       GL        SQ        QM      Fc  Pr.Fc\n",
      "Cobertura               1   79.2100  79.21000  6.2309 0.0281\n",
      "Ambiente:Cobertura COM  1  739.2012 739.20125 58.1474      0\n",
      "Ambiente:Cobertura SEM  1  201.0012 201.00125 15.8112 0.0018\n",
      "Residuo                12  152.5506  12.71255               \n",
      "Total                  15 1171.9631  78.13087               \n",
      "------------------------------------------------------------------------\n",
      "\n",
      "\n",
      "\n",
      " Ambiente  dentro do nivel  COM  de  Cobertura \n",
      "------------------------------------------------------------------------\n",
      "Teste de Tukey\n",
      "------------------------------------------------------------------------\n",
      "Grupos Tratamentos Medias\n",
      "a \t 1 \t 34.5 \n",
      " b \t 2 \t 15.275 \n",
      "------------------------------------------------------------------------\n",
      "\n",
      "\n",
      " Ambiente  dentro do nivel  SEM  de  Cobertura \n",
      "------------------------------------------------------------------------\n",
      "Teste de Tukey\n",
      "------------------------------------------------------------------------\n",
      "Grupos Tratamentos Medias\n",
      "a \t 1 \t 25.45 \n",
      " b \t 2 \t 15.425 \n",
      "------------------------------------------------------------------------\n",
      "\n",
      "\n",
      "\n",
      "Desdobrando  Cobertura  dentro de cada nivel de  Ambiente \n",
      "------------------------------------------------------------------------\n",
      "------------------------------------------------------------------------\n",
      "Quadro da analise de variancia\n",
      "------------------------------------------------------------------------\n",
      "                        GL        SQ        QM      Fc  Pr.Fc\n",
      "Ambiente                 1  855.5625 855.56250 67.3006      0\n",
      "Cobertura:Ambiente Caat  1  163.8050 163.80500 12.8853 0.0037\n",
      "Cobertura:Ambiente Past  1    0.0450   0.04500  0.0035 0.9535\n",
      "Residuo                 12  152.5506  12.71255               \n",
      "Total                   15 1171.9631  78.13087               \n",
      "------------------------------------------------------------------------\n",
      "\n",
      "\n",
      "\n",
      " Cobertura  dentro do nivel  Caat  de  Ambiente \n",
      "------------------------------------------------------------------------\n",
      "Teste de Tukey\n",
      "------------------------------------------------------------------------\n",
      "Grupos Tratamentos Medias\n",
      "a \t 1 \t 34.5 \n",
      " b \t 2 \t 25.45 \n",
      "------------------------------------------------------------------------\n",
      "\n",
      "\n",
      " Cobertura  dentro do nivel  Past  de  Ambiente \n",
      "\n",
      "De acordo com o teste F, as medias desse fator sao estatisticamente iguais.\n",
      "------------------------------------------------------------------------\n",
      "    Niveis     Medias\n",
      "1        1     15.275\n",
      "2        2     15.425\n",
      "------------------------------------------------------------------------\n"
     ]
    }
   ],
   "source": [
    "# ANOVA\n",
    "fat2.dic(fator1 = df$Ambiente, fator2 = df$Cobertura, resp = df$VaRes,\n",
    "         quali = c(T, T), fac.names = c('Ambiente', 'Cobertura'))"
   ]
  },
  {
   "cell_type": "markdown",
   "metadata": {},
   "source": [
    "# Interpretação dos resultados\n",
    "\n",
    "- Distribuição normal;\n",
    "- Houve interação significativa dos fatores. Na primeira tabela temos $Pr>Fc = 0.02408$, ou seja, na análise variância a interação foi significativa a 5\\% de probabilidade;\n",
    "- Obsevar as comparações das médias dentro de cada fator;\n",
    "- Observe que as médias dos tratamentos se repetem nas tabelas subsequentes. Não confundir as letras das significâncias.\n",
    "\n",
    "\n",
    "|             |Caatinga| Pastagem|\n",
    "|-------------|--------|---------|\n",
    "|Com cobertura|34.5Aa  |15.3Ba   |\n",
    "|Sem cobertura|25.4Ab  |15.4Ba   |\n",
    "\n"
   ]
  },
  {
   "cell_type": "code",
   "execution_count": 4,
   "metadata": {},
   "outputs": [],
   "source": [
    "# Letras significância. Opção: Letras maiúsculas para comparar áreas\n",
    "# e minúsculas comparar cobertura\n",
    "letras = c('Aa',      # Caatinga com cobertura\n",
    "           'Ab',      # Caatinga sem cobertura\n",
    "           'Ba',      # Pastagem com cobertura\n",
    "           'Ba')      # Pastagem sem combertura"
   ]
  },
  {
   "cell_type": "code",
   "execution_count": 5,
   "metadata": {},
   "outputs": [],
   "source": [
    "# Gráfico -------------------------------------------------------------"
   ]
  },
  {
   "cell_type": "code",
   "execution_count": 6,
   "metadata": {},
   "outputs": [
    {
     "data": {
      "text/html": [
       "<table>\n",
       "<caption>A matrix: 2 × 2 of type dbl</caption>\n",
       "<thead>\n",
       "\t<tr><th></th><th scope=col>COM</th><th scope=col>SEM</th></tr>\n",
       "</thead>\n",
       "<tbody>\n",
       "\t<tr><th scope=row>Caat</th><td>34.500</td><td>25.450</td></tr>\n",
       "\t<tr><th scope=row>Past</th><td>15.275</td><td>15.425</td></tr>\n",
       "</tbody>\n",
       "</table>\n"
      ],
      "text/latex": [
       "A matrix: 2 × 2 of type dbl\n",
       "\\begin{tabular}{r|ll}\n",
       "  & COM & SEM\\\\\n",
       "\\hline\n",
       "\tCaat & 34.500 & 25.450\\\\\n",
       "\tPast & 15.275 & 15.425\\\\\n",
       "\\end{tabular}\n"
      ],
      "text/markdown": [
       "\n",
       "A matrix: 2 × 2 of type dbl\n",
       "\n",
       "| <!--/--> | COM | SEM |\n",
       "|---|---|---|\n",
       "| Caat | 34.500 | 25.450 |\n",
       "| Past | 15.275 | 15.425 |\n",
       "\n"
      ],
      "text/plain": [
       "      Cobertura\n",
       "Amb    COM    SEM   \n",
       "  Caat 34.500 25.450\n",
       "  Past 15.275 15.425"
      ]
     },
     "metadata": {},
     "output_type": "display_data"
    }
   ],
   "source": [
    "# Preparar médias para o gráfico\n",
    "m1 = tapply(df$VaRes, list(Amb = df$Ambiente, Cobertura = df$Cobertura), mean)\n",
    "m1"
   ]
  },
  {
   "cell_type": "code",
   "execution_count": 7,
   "metadata": {},
   "outputs": [],
   "source": [
    "# Transpor a matrix para colocar o ambiente nas colunas\n",
    "m2 = t(m1)"
   ]
  },
  {
   "cell_type": "code",
   "execution_count": 8,
   "metadata": {},
   "outputs": [
    {
     "data": {
      "text/html": [
       "<table>\n",
       "<caption>A matrix: 2 × 2 of type dbl</caption>\n",
       "<thead>\n",
       "\t<tr><th></th><th scope=col>Caatinga</th><th scope=col>Pastagem</th></tr>\n",
       "</thead>\n",
       "<tbody>\n",
       "\t<tr><th scope=row>Com</th><td>34.50</td><td>15.275</td></tr>\n",
       "\t<tr><th scope=row>Sem</th><td>25.45</td><td>15.425</td></tr>\n",
       "</tbody>\n",
       "</table>\n"
      ],
      "text/latex": [
       "A matrix: 2 × 2 of type dbl\n",
       "\\begin{tabular}{r|ll}\n",
       "  & Caatinga & Pastagem\\\\\n",
       "\\hline\n",
       "\tCom & 34.50 & 15.275\\\\\n",
       "\tSem & 25.45 & 15.425\\\\\n",
       "\\end{tabular}\n"
      ],
      "text/markdown": [
       "\n",
       "A matrix: 2 × 2 of type dbl\n",
       "\n",
       "| <!--/--> | Caatinga | Pastagem |\n",
       "|---|---|---|\n",
       "| Com | 34.50 | 15.275 |\n",
       "| Sem | 25.45 | 15.425 |\n",
       "\n"
      ],
      "text/plain": [
       "         Amb\n",
       "Cobertura Caatinga Pastagem\n",
       "      Com 34.50    15.275  \n",
       "      Sem 25.45    15.425  "
      ]
     },
     "metadata": {},
     "output_type": "display_data"
    }
   ],
   "source": [
    "# Renomear linhas e colunas da matrix\n",
    "colnames(m2) = c('Caatinga', 'Pastagem')\n",
    "rownames(m2) = c('Com', 'Sem')\n",
    "m2"
   ]
  },
  {
   "cell_type": "code",
   "execution_count": 9,
   "metadata": {},
   "outputs": [
    {
     "data": {
      "image/png": "[encoded data removed]",
      "text/plain": [
       "plot without title"
      ]
     },
     "metadata": {},
     "output_type": "display_data"
    }
   ],
   "source": [
    "# Gráfico\n",
    "cores = viridis(2) # Escolha as cores/paleta da sua preferência!\n",
    "\n",
    "bp1 = barplot(m2, beside = T, col = cores, ylim = c(0, 40), las=1,\n",
    "              ylab = 'Variável (unidade de medida)')\n",
    "axis(side = 1, at = (bp1[1,] + bp1[2,])/2, labels = F)\n",
    "box()\n",
    "\n",
    "# Legenda\n",
    "legend('topright', legend = c('Com cobertura', 'Sem cobertura'),\n",
    "      fill = cores, bty = 'n')\n",
    "\n",
    "# Letras significância\n",
    "text(x = bp1,          # Posição em relação ao eixo x\n",
    "     y = m2+2,         # Posição em relação ao eixo y (média + um valor!)\n",
    "     labels = letras)  # Vetor com as letras criado anteriormente.\n"
   ]
  }
 ],
 "metadata": {
  "kernelspec": {
   "display_name": "R",
   "language": "R",
   "name": "ir"
  },
  "language_info": {
   "codemirror_mode": "r",
   "file_extension": ".r",
   "mimetype": "text/x-r-source",
   "name": "R",
   "pygments_lexer": "r",
   "version": "3.6.0"
  }
 },
 "nbformat": 4,
 "nbformat_minor": 2
}
