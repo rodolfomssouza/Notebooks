{
 "cells": [
  {
   "cell_type": "code",
   "execution_count": 1,
   "metadata": {},
   "outputs": [],
   "source": [
    "# This is a notebook with codes/scripts used during the classes of\n",
    "# data analysis with R\n",
    "# Rodolfo Souza - rodolfomssouza@gmail.com"
   ]
  },
  {
   "cell_type": "code",
   "execution_count": 2,
   "metadata": {},
   "outputs": [],
   "source": [
    "# Introduction to R"
   ]
  },
  {
   "cell_type": "code",
   "execution_count": 3,
   "metadata": {},
   "outputs": [
    {
     "data": {
      "text/html": [
       "<ol class=list-inline>\n",
       "\t<li>1</li>\n",
       "\t<li>2</li>\n",
       "\t<li>3</li>\n",
       "\t<li>4</li>\n",
       "\t<li>5</li>\n",
       "\t<li>6</li>\n",
       "\t<li>7</li>\n",
       "\t<li>8</li>\n",
       "\t<li>9</li>\n",
       "</ol>\n"
      ],
      "text/latex": [
       "\\begin{enumerate*}\n",
       "\\item 1\n",
       "\\item 2\n",
       "\\item 3\n",
       "\\item 4\n",
       "\\item 5\n",
       "\\item 6\n",
       "\\item 7\n",
       "\\item 8\n",
       "\\item 9\n",
       "\\end{enumerate*}\n"
      ],
      "text/markdown": [
       "1. 1\n",
       "2. 2\n",
       "3. 3\n",
       "4. 4\n",
       "5. 5\n",
       "6. 6\n",
       "7. 7\n",
       "8. 8\n",
       "9. 9\n",
       "\n",
       "\n"
      ],
      "text/plain": [
       "[1] 1 2 3 4 5 6 7 8 9"
      ]
     },
     "metadata": {},
     "output_type": "display_data"
    }
   ],
   "source": [
    "# Elements in R -----------------------------------------------------------\n",
    "# Vector\n",
    "x1 = c(1, 2, 3, 4, 5, 6, 7, 8, 9)\n",
    "x1"
   ]
  },
  {
   "cell_type": "code",
   "execution_count": 4,
   "metadata": {},
   "outputs": [
    {
     "data": {
      "text/html": [
       "<ol class=list-inline>\n",
       "\t<li>1</li>\n",
       "\t<li>1.5</li>\n",
       "\t<li>2</li>\n",
       "\t<li>2.5</li>\n",
       "\t<li>3</li>\n",
       "\t<li>3.5</li>\n",
       "\t<li>4</li>\n",
       "\t<li>4.5</li>\n",
       "</ol>\n"
      ],
      "text/latex": [
       "\\begin{enumerate*}\n",
       "\\item 1\n",
       "\\item 1.5\n",
       "\\item 2\n",
       "\\item 2.5\n",
       "\\item 3\n",
       "\\item 3.5\n",
       "\\item 4\n",
       "\\item 4.5\n",
       "\\end{enumerate*}\n"
      ],
      "text/markdown": [
       "1. 1\n",
       "2. 1.5\n",
       "3. 2\n",
       "4. 2.5\n",
       "5. 3\n",
       "6. 3.5\n",
       "7. 4\n",
       "8. 4.5\n",
       "\n",
       "\n"
      ],
      "text/plain": [
       "[1] 1.0 1.5 2.0 2.5 3.0 3.5 4.0 4.5"
      ]
     },
     "metadata": {},
     "output_type": "display_data"
    }
   ],
   "source": [
    "# Sequence\n",
    "x2 = seq(1, 4.5, 0.5) # same of x2 = seq(from = 1, to = 4.5, by = 0.5)\n",
    "x2"
   ]
  },
  {
   "cell_type": "code",
   "execution_count": 5,
   "metadata": {},
   "outputs": [
    {
     "data": {
      "text/html": [
       "<ol class=list-inline>\n",
       "\t<li>'a'</li>\n",
       "\t<li>'a'</li>\n",
       "\t<li>'a'</li>\n",
       "\t<li>'a'</li>\n",
       "\t<li>'a'</li>\n",
       "</ol>\n"
      ],
      "text/latex": [
       "\\begin{enumerate*}\n",
       "\\item 'a'\n",
       "\\item 'a'\n",
       "\\item 'a'\n",
       "\\item 'a'\n",
       "\\item 'a'\n",
       "\\end{enumerate*}\n"
      ],
      "text/markdown": [
       "1. 'a'\n",
       "2. 'a'\n",
       "3. 'a'\n",
       "4. 'a'\n",
       "5. 'a'\n",
       "\n",
       "\n"
      ],
      "text/plain": [
       "[1] \"a\" \"a\" \"a\" \"a\" \"a\""
      ]
     },
     "metadata": {},
     "output_type": "display_data"
    }
   ],
   "source": [
    "# Repetition\n",
    "x3 = rep('a', 5)\n",
    "x3"
   ]
  },
  {
   "cell_type": "code",
   "execution_count": 6,
   "metadata": {},
   "outputs": [
    {
     "data": {
      "text/html": [
       "<ol class=list-inline>\n",
       "\t<li>1</li>\n",
       "\t<li>2</li>\n",
       "\t<li>3</li>\n",
       "\t<li>4</li>\n",
       "\t<li>5</li>\n",
       "\t<li>6</li>\n",
       "\t<li>7</li>\n",
       "\t<li>8</li>\n",
       "\t<li>9</li>\n",
       "\t<li>1</li>\n",
       "\t<li>2</li>\n",
       "\t<li>3</li>\n",
       "\t<li>4</li>\n",
       "\t<li>5</li>\n",
       "\t<li>6</li>\n",
       "\t<li>7</li>\n",
       "\t<li>8</li>\n",
       "\t<li>9</li>\n",
       "\t<li>1</li>\n",
       "\t<li>2</li>\n",
       "\t<li>3</li>\n",
       "\t<li>4</li>\n",
       "\t<li>5</li>\n",
       "\t<li>6</li>\n",
       "\t<li>7</li>\n",
       "\t<li>8</li>\n",
       "\t<li>9</li>\n",
       "</ol>\n"
      ],
      "text/latex": [
       "\\begin{enumerate*}\n",
       "\\item 1\n",
       "\\item 2\n",
       "\\item 3\n",
       "\\item 4\n",
       "\\item 5\n",
       "\\item 6\n",
       "\\item 7\n",
       "\\item 8\n",
       "\\item 9\n",
       "\\item 1\n",
       "\\item 2\n",
       "\\item 3\n",
       "\\item 4\n",
       "\\item 5\n",
       "\\item 6\n",
       "\\item 7\n",
       "\\item 8\n",
       "\\item 9\n",
       "\\item 1\n",
       "\\item 2\n",
       "\\item 3\n",
       "\\item 4\n",
       "\\item 5\n",
       "\\item 6\n",
       "\\item 7\n",
       "\\item 8\n",
       "\\item 9\n",
       "\\end{enumerate*}\n"
      ],
      "text/markdown": [
       "1. 1\n",
       "2. 2\n",
       "3. 3\n",
       "4. 4\n",
       "5. 5\n",
       "6. 6\n",
       "7. 7\n",
       "8. 8\n",
       "9. 9\n",
       "10. 1\n",
       "11. 2\n",
       "12. 3\n",
       "13. 4\n",
       "14. 5\n",
       "15. 6\n",
       "16. 7\n",
       "17. 8\n",
       "18. 9\n",
       "19. 1\n",
       "20. 2\n",
       "21. 3\n",
       "22. 4\n",
       "23. 5\n",
       "24. 6\n",
       "25. 7\n",
       "26. 8\n",
       "27. 9\n",
       "\n",
       "\n"
      ],
      "text/plain": [
       " [1] 1 2 3 4 5 6 7 8 9 1 2 3 4 5 6 7 8 9 1 2 3 4 5 6 7 8 9"
      ]
     },
     "metadata": {},
     "output_type": "display_data"
    }
   ],
   "source": [
    "x4 = rep(x1, 3)\n",
    "x4"
   ]
  },
  {
   "cell_type": "code",
   "execution_count": 7,
   "metadata": {},
   "outputs": [
    {
     "data": {
      "text/html": [
       "<ol class=list-inline>\n",
       "\t<li>1</li>\n",
       "\t<li>1</li>\n",
       "\t<li>1</li>\n",
       "\t<li>2</li>\n",
       "\t<li>2</li>\n",
       "\t<li>2</li>\n",
       "\t<li>3</li>\n",
       "\t<li>3</li>\n",
       "\t<li>3</li>\n",
       "\t<li>4</li>\n",
       "\t<li>4</li>\n",
       "\t<li>4</li>\n",
       "\t<li>5</li>\n",
       "\t<li>5</li>\n",
       "\t<li>5</li>\n",
       "\t<li>6</li>\n",
       "\t<li>6</li>\n",
       "\t<li>6</li>\n",
       "\t<li>7</li>\n",
       "\t<li>7</li>\n",
       "\t<li>7</li>\n",
       "\t<li>8</li>\n",
       "\t<li>8</li>\n",
       "\t<li>8</li>\n",
       "\t<li>9</li>\n",
       "\t<li>9</li>\n",
       "\t<li>9</li>\n",
       "</ol>\n"
      ],
      "text/latex": [
       "\\begin{enumerate*}\n",
       "\\item 1\n",
       "\\item 1\n",
       "\\item 1\n",
       "\\item 2\n",
       "\\item 2\n",
       "\\item 2\n",
       "\\item 3\n",
       "\\item 3\n",
       "\\item 3\n",
       "\\item 4\n",
       "\\item 4\n",
       "\\item 4\n",
       "\\item 5\n",
       "\\item 5\n",
       "\\item 5\n",
       "\\item 6\n",
       "\\item 6\n",
       "\\item 6\n",
       "\\item 7\n",
       "\\item 7\n",
       "\\item 7\n",
       "\\item 8\n",
       "\\item 8\n",
       "\\item 8\n",
       "\\item 9\n",
       "\\item 9\n",
       "\\item 9\n",
       "\\end{enumerate*}\n"
      ],
      "text/markdown": [
       "1. 1\n",
       "2. 1\n",
       "3. 1\n",
       "4. 2\n",
       "5. 2\n",
       "6. 2\n",
       "7. 3\n",
       "8. 3\n",
       "9. 3\n",
       "10. 4\n",
       "11. 4\n",
       "12. 4\n",
       "13. 5\n",
       "14. 5\n",
       "15. 5\n",
       "16. 6\n",
       "17. 6\n",
       "18. 6\n",
       "19. 7\n",
       "20. 7\n",
       "21. 7\n",
       "22. 8\n",
       "23. 8\n",
       "24. 8\n",
       "25. 9\n",
       "26. 9\n",
       "27. 9\n",
       "\n",
       "\n"
      ],
      "text/plain": [
       " [1] 1 1 1 2 2 2 3 3 3 4 4 4 5 5 5 6 6 6 7 7 7 8 8 8 9 9 9"
      ]
     },
     "metadata": {},
     "output_type": "display_data"
    }
   ],
   "source": [
    "x5 = rep(x1, each = 3)\n",
    "x5"
   ]
  },
  {
   "cell_type": "code",
   "execution_count": 8,
   "metadata": {},
   "outputs": [
    {
     "data": {
      "text/html": [
       "<table>\n",
       "<tbody>\n",
       "\t<tr><td>NA</td><td>NA</td><td>NA</td><td>NA</td><td>NA</td></tr>\n",
       "\t<tr><td>NA</td><td>NA</td><td>NA</td><td>NA</td><td>NA</td></tr>\n",
       "\t<tr><td>NA</td><td>NA</td><td>NA</td><td>NA</td><td>NA</td></tr>\n",
       "\t<tr><td>NA</td><td>NA</td><td>NA</td><td>NA</td><td>NA</td></tr>\n",
       "</tbody>\n",
       "</table>\n"
      ],
      "text/latex": [
       "\\begin{tabular}{lllll}\n",
       "\t NA & NA & NA & NA & NA\\\\\n",
       "\t NA & NA & NA & NA & NA\\\\\n",
       "\t NA & NA & NA & NA & NA\\\\\n",
       "\t NA & NA & NA & NA & NA\\\\\n",
       "\\end{tabular}\n"
      ],
      "text/markdown": [
       "\n",
       "| NA | NA | NA | NA | NA |\n",
       "| NA | NA | NA | NA | NA |\n",
       "| NA | NA | NA | NA | NA |\n",
       "| NA | NA | NA | NA | NA |\n",
       "\n"
      ],
      "text/plain": [
       "     [,1] [,2] [,3] [,4] [,5]\n",
       "[1,] NA   NA   NA   NA   NA  \n",
       "[2,] NA   NA   NA   NA   NA  \n",
       "[3,] NA   NA   NA   NA   NA  \n",
       "[4,] NA   NA   NA   NA   NA  "
      ]
     },
     "metadata": {},
     "output_type": "display_data"
    }
   ],
   "source": [
    "# Matrix\n",
    "m1 = matrix(ncol = 5, nrow = 4)\n",
    "m1"
   ]
  },
  {
   "cell_type": "code",
   "execution_count": 9,
   "metadata": {},
   "outputs": [
    {
     "data": {
      "text/html": [
       "<table>\n",
       "<tbody>\n",
       "\t<tr><td>1.000000</td><td>1.842105</td><td>2.684211</td><td>3.526316</td><td>4.368421</td></tr>\n",
       "\t<tr><td>1.210526</td><td>2.052632</td><td>2.894737</td><td>3.736842</td><td>4.578947</td></tr>\n",
       "\t<tr><td>1.421053</td><td>2.263158</td><td>3.105263</td><td>3.947368</td><td>4.789474</td></tr>\n",
       "\t<tr><td>1.631579</td><td>2.473684</td><td>3.315789</td><td>4.157895</td><td>5.000000</td></tr>\n",
       "</tbody>\n",
       "</table>\n"
      ],
      "text/latex": [
       "\\begin{tabular}{lllll}\n",
       "\t 1.000000 & 1.842105 & 2.684211 & 3.526316 & 4.368421\\\\\n",
       "\t 1.210526 & 2.052632 & 2.894737 & 3.736842 & 4.578947\\\\\n",
       "\t 1.421053 & 2.263158 & 3.105263 & 3.947368 & 4.789474\\\\\n",
       "\t 1.631579 & 2.473684 & 3.315789 & 4.157895 & 5.000000\\\\\n",
       "\\end{tabular}\n"
      ],
      "text/markdown": [
       "\n",
       "| 1.000000 | 1.842105 | 2.684211 | 3.526316 | 4.368421 |\n",
       "| 1.210526 | 2.052632 | 2.894737 | 3.736842 | 4.578947 |\n",
       "| 1.421053 | 2.263158 | 3.105263 | 3.947368 | 4.789474 |\n",
       "| 1.631579 | 2.473684 | 3.315789 | 4.157895 | 5.000000 |\n",
       "\n"
      ],
      "text/plain": [
       "     [,1]     [,2]     [,3]     [,4]     [,5]    \n",
       "[1,] 1.000000 1.842105 2.684211 3.526316 4.368421\n",
       "[2,] 1.210526 2.052632 2.894737 3.736842 4.578947\n",
       "[3,] 1.421053 2.263158 3.105263 3.947368 4.789474\n",
       "[4,] 1.631579 2.473684 3.315789 4.157895 5.000000"
      ]
     },
     "metadata": {},
     "output_type": "display_data"
    }
   ],
   "source": [
    "m2 = matrix(ncol = 5, nrow = 4, data = seq(1, 5, length=20))\n",
    "m2"
   ]
  },
  {
   "cell_type": "code",
   "execution_count": 10,
   "metadata": {},
   "outputs": [
    {
     "data": {
      "text/html": [
       "<table>\n",
       "<tbody>\n",
       "\t<tr><td>1.000000</td><td>1.210526</td><td>1.421053</td><td>1.631579</td><td>1.842105</td></tr>\n",
       "\t<tr><td>2.052632</td><td>2.263158</td><td>2.473684</td><td>2.684211</td><td>2.894737</td></tr>\n",
       "\t<tr><td>3.105263</td><td>3.315789</td><td>3.526316</td><td>3.736842</td><td>3.947368</td></tr>\n",
       "\t<tr><td>4.157895</td><td>4.368421</td><td>4.578947</td><td>4.789474</td><td>5.000000</td></tr>\n",
       "</tbody>\n",
       "</table>\n"
      ],
      "text/latex": [
       "\\begin{tabular}{lllll}\n",
       "\t 1.000000 & 1.210526 & 1.421053 & 1.631579 & 1.842105\\\\\n",
       "\t 2.052632 & 2.263158 & 2.473684 & 2.684211 & 2.894737\\\\\n",
       "\t 3.105263 & 3.315789 & 3.526316 & 3.736842 & 3.947368\\\\\n",
       "\t 4.157895 & 4.368421 & 4.578947 & 4.789474 & 5.000000\\\\\n",
       "\\end{tabular}\n"
      ],
      "text/markdown": [
       "\n",
       "| 1.000000 | 1.210526 | 1.421053 | 1.631579 | 1.842105 |\n",
       "| 2.052632 | 2.263158 | 2.473684 | 2.684211 | 2.894737 |\n",
       "| 3.105263 | 3.315789 | 3.526316 | 3.736842 | 3.947368 |\n",
       "| 4.157895 | 4.368421 | 4.578947 | 4.789474 | 5.000000 |\n",
       "\n"
      ],
      "text/plain": [
       "     [,1]     [,2]     [,3]     [,4]     [,5]    \n",
       "[1,] 1.000000 1.210526 1.421053 1.631579 1.842105\n",
       "[2,] 2.052632 2.263158 2.473684 2.684211 2.894737\n",
       "[3,] 3.105263 3.315789 3.526316 3.736842 3.947368\n",
       "[4,] 4.157895 4.368421 4.578947 4.789474 5.000000"
      ]
     },
     "metadata": {},
     "output_type": "display_data"
    }
   ],
   "source": [
    "m3 = matrix(ncol = 5, nrow = 4, byrow = T, data = seq(1, 5, length=20))\n",
    "m3"
   ]
  },
  {
   "cell_type": "code",
   "execution_count": 11,
   "metadata": {},
   "outputs": [
    {
     "data": {
      "text/html": [
       "'/home/rodolfo/Programming/R/Notebooks'"
      ],
      "text/latex": [
       "'/home/rodolfo/Programming/R/Notebooks'"
      ],
      "text/markdown": [
       "'/home/rodolfo/Programming/R/Notebooks'"
      ],
      "text/plain": [
       "[1] \"/home/rodolfo/Programming/R/Notebooks\""
      ]
     },
     "metadata": {},
     "output_type": "display_data"
    }
   ],
   "source": [
    "# Work directory ----------------------------------------------------------\n",
    "# Show work directory\n",
    "getwd()"
   ]
  },
  {
   "cell_type": "code",
   "execution_count": 12,
   "metadata": {},
   "outputs": [],
   "source": [
    "# Change work directory\n",
    "setwd('~/')                         # Returns to the root directory\n",
    "setwd('Programming/R/Notebooks')    # Enter in a new work direcory"
   ]
  },
  {
   "cell_type": "code",
   "execution_count": 13,
   "metadata": {},
   "outputs": [
    {
     "name": "stderr",
     "output_type": "stream",
     "text": [
      "Installing package into ‘/home/rodolfo/R/x86_64-redhat-linux-gnu-library/3.5’\n",
      "(as ‘lib’ is unspecified)\n",
      "Warning message:\n",
      "“package ‘fBascis’ is not available (for R version 3.5.3)”"
     ]
    }
   ],
   "source": [
    "# Packages ----------------------------------------------------------------\n",
    "# Install packages\n",
    "install.packages('fBascis', dep = T)"
   ]
  },
  {
   "cell_type": "code",
   "execution_count": 14,
   "metadata": {},
   "outputs": [
    {
     "name": "stderr",
     "output_type": "stream",
     "text": [
      "Loading required package: timeDate\n",
      "Loading required package: timeSeries\n",
      "Loading required package: hydroGOF\n",
      "Loading required package: zoo\n",
      "\n",
      "Attaching package: ‘zoo’\n",
      "\n",
      "The following object is masked from ‘package:timeSeries’:\n",
      "\n",
      "    time<-\n",
      "\n",
      "The following objects are masked from ‘package:base’:\n",
      "\n",
      "    as.Date, as.Date.numeric\n",
      "\n"
     ]
    }
   ],
   "source": [
    "# Load packages\n",
    "library('fBasics')          # library and require have the same result!\n",
    "require('hydroGOF')"
   ]
  },
  {
   "cell_type": "code",
   "execution_count": 15,
   "metadata": {},
   "outputs": [
    {
     "data": {
      "text/html": [
       "<ol class=list-inline>\n",
       "\t<li>7.66418245407847</li>\n",
       "\t<li>10.9305714885313</li>\n",
       "\t<li>10.854053492022</li>\n",
       "\t<li>10.5610566296955</li>\n",
       "\t<li>12.7693921841427</li>\n",
       "\t<li>8.45517930406535</li>\n",
       "\t<li>10.0224937003706</li>\n",
       "\t<li>8.44365538529203</li>\n",
       "\t<li>11.7563152233888</li>\n",
       "\t<li>6.66871626104164</li>\n",
       "\t<li>11.5436124013447</li>\n",
       "\t<li>12.5969567714166</li>\n",
       "\t<li>8.92725560771549</li>\n",
       "\t<li>9.61973804561664</li>\n",
       "\t<li>12.3792505330298</li>\n",
       "\t<li>8.08620846550144</li>\n",
       "\t<li>9.39722386071267</li>\n",
       "\t<li>9.11605851961295</li>\n",
       "\t<li>11.62011514986</li>\n",
       "\t<li>6.95025913993023</li>\n",
       "\t<li>9.22806376455441</li>\n",
       "\t<li>11.4623555654798</li>\n",
       "\t<li>8.42365767305194</li>\n",
       "\t<li>10.3721177677907</li>\n",
       "\t<li>9.00645815026731</li>\n",
       "\t<li>9.71004443790137</li>\n",
       "\t<li>8.90417785233418</li>\n",
       "\t<li>12.8224808607579</li>\n",
       "\t<li>12.0462396685966</li>\n",
       "\t<li>11.1710025274515</li>\n",
       "</ol>\n"
      ],
      "text/latex": [
       "\\begin{enumerate*}\n",
       "\\item 7.66418245407847\n",
       "\\item 10.9305714885313\n",
       "\\item 10.854053492022\n",
       "\\item 10.5610566296955\n",
       "\\item 12.7693921841427\n",
       "\\item 8.45517930406535\n",
       "\\item 10.0224937003706\n",
       "\\item 8.44365538529203\n",
       "\\item 11.7563152233888\n",
       "\\item 6.66871626104164\n",
       "\\item 11.5436124013447\n",
       "\\item 12.5969567714166\n",
       "\\item 8.92725560771549\n",
       "\\item 9.61973804561664\n",
       "\\item 12.3792505330298\n",
       "\\item 8.08620846550144\n",
       "\\item 9.39722386071267\n",
       "\\item 9.11605851961295\n",
       "\\item 11.62011514986\n",
       "\\item 6.95025913993023\n",
       "\\item 9.22806376455441\n",
       "\\item 11.4623555654798\n",
       "\\item 8.42365767305194\n",
       "\\item 10.3721177677907\n",
       "\\item 9.00645815026731\n",
       "\\item 9.71004443790137\n",
       "\\item 8.90417785233418\n",
       "\\item 12.8224808607579\n",
       "\\item 12.0462396685966\n",
       "\\item 11.1710025274515\n",
       "\\end{enumerate*}\n"
      ],
      "text/markdown": [
       "1. 7.66418245407847\n",
       "2. 10.9305714885313\n",
       "3. 10.854053492022\n",
       "4. 10.5610566296955\n",
       "5. 12.7693921841427\n",
       "6. 8.45517930406535\n",
       "7. 10.0224937003706\n",
       "8. 8.44365538529203\n",
       "9. 11.7563152233888\n",
       "10. 6.66871626104164\n",
       "11. 11.5436124013447\n",
       "12. 12.5969567714166\n",
       "13. 8.92725560771549\n",
       "14. 9.61973804561664\n",
       "15. 12.3792505330298\n",
       "16. 8.08620846550144\n",
       "17. 9.39722386071267\n",
       "18. 9.11605851961295\n",
       "19. 11.62011514986\n",
       "20. 6.95025913993023\n",
       "21. 9.22806376455441\n",
       "22. 11.4623555654798\n",
       "23. 8.42365767305194\n",
       "24. 10.3721177677907\n",
       "25. 9.00645815026731\n",
       "26. 9.71004443790137\n",
       "27. 8.90417785233418\n",
       "28. 12.8224808607579\n",
       "29. 12.0462396685966\n",
       "30. 11.1710025274515\n",
       "\n",
       "\n"
      ],
      "text/plain": [
       " [1]  7.664182 10.930571 10.854053 10.561057 12.769392  8.455179 10.022494\n",
       " [8]  8.443655 11.756315  6.668716 11.543612 12.596957  8.927256  9.619738\n",
       "[15] 12.379251  8.086208  9.397224  9.116059 11.620115  6.950259  9.228064\n",
       "[22] 11.462356  8.423658 10.372118  9.006458  9.710044  8.904178 12.822481\n",
       "[29] 12.046240 11.171003"
      ]
     },
     "metadata": {},
     "output_type": "display_data"
    }
   ],
   "source": [
    "# Data in R ---------------------------------------------------------------\n",
    "# Create random data following a normal distribution\n",
    "xr1 = rnorm(n = 30, mean = 10, sd = 2)\n",
    "xr1"
   ]
  },
  {
   "cell_type": "code",
   "execution_count": 16,
   "metadata": {},
   "outputs": [],
   "source": [
    "# Read a table\n",
    "df1 = read.table('GEOR_2016_120_Data.txt', h = T)"
   ]
  },
  {
   "cell_type": "code",
   "execution_count": 17,
   "metadata": {},
   "outputs": [
    {
     "data": {
      "text/html": [
       "<table>\n",
       "<thead><tr><th scope=col>X</th><th scope=col>Y</th><th scope=col>ThetaS</th><th scope=col>ThetaAvb</th><th scope=col>PhiMicro</th><th scope=col>PhiMeso</th><th scope=col>PhiMacro</th><th scope=col>Ds</th><th scope=col>S0</th></tr></thead>\n",
       "<tbody>\n",
       "\t<tr><td>436550 </td><td>9106770</td><td>0.33   </td><td>0.106  </td><td>62.65  </td><td>11.56  </td><td>25.79  </td><td>1.51   </td><td>0.3288 </td></tr>\n",
       "\t<tr><td>436629 </td><td>9106770</td><td>0.35   </td><td>0.117  </td><td>56.85  </td><td>13.35  </td><td>29.80  </td><td>1.57   </td><td>0.4254 </td></tr>\n",
       "\t<tr><td>436709 </td><td>9106752</td><td>0.48   </td><td>0.141  </td><td>80.11  </td><td> 8.22  </td><td>11.67  </td><td>1.39   </td><td>0.2916 </td></tr>\n",
       "\t<tr><td>436790 </td><td>9106760</td><td>0.50   </td><td>0.124  </td><td>79.04  </td><td> 7.17  </td><td>13.79  </td><td>1.21   </td><td>0.5414 </td></tr>\n",
       "\t<tr><td>436861 </td><td>9106760</td><td>0.49   </td><td>0.110  </td><td>79.09  </td><td> 6.48  </td><td>14.43  </td><td>1.35   </td><td>0.2831 </td></tr>\n",
       "</tbody>\n",
       "</table>\n"
      ],
      "text/latex": [
       "\\begin{tabular}{r|lllllllll}\n",
       " X & Y & ThetaS & ThetaAvb & PhiMicro & PhiMeso & PhiMacro & Ds & S0\\\\\n",
       "\\hline\n",
       "\t 436550  & 9106770 & 0.33    & 0.106   & 62.65   & 11.56   & 25.79   & 1.51    & 0.3288 \\\\\n",
       "\t 436629  & 9106770 & 0.35    & 0.117   & 56.85   & 13.35   & 29.80   & 1.57    & 0.4254 \\\\\n",
       "\t 436709  & 9106752 & 0.48    & 0.141   & 80.11   &  8.22   & 11.67   & 1.39    & 0.2916 \\\\\n",
       "\t 436790  & 9106760 & 0.50    & 0.124   & 79.04   &  7.17   & 13.79   & 1.21    & 0.5414 \\\\\n",
       "\t 436861  & 9106760 & 0.49    & 0.110   & 79.09   &  6.48   & 14.43   & 1.35    & 0.2831 \\\\\n",
       "\\end{tabular}\n"
      ],
      "text/markdown": [
       "\n",
       "| X | Y | ThetaS | ThetaAvb | PhiMicro | PhiMeso | PhiMacro | Ds | S0 |\n",
       "|---|---|---|---|---|---|---|---|---|\n",
       "| 436550  | 9106770 | 0.33    | 0.106   | 62.65   | 11.56   | 25.79   | 1.51    | 0.3288  |\n",
       "| 436629  | 9106770 | 0.35    | 0.117   | 56.85   | 13.35   | 29.80   | 1.57    | 0.4254  |\n",
       "| 436709  | 9106752 | 0.48    | 0.141   | 80.11   |  8.22   | 11.67   | 1.39    | 0.2916  |\n",
       "| 436790  | 9106760 | 0.50    | 0.124   | 79.04   |  7.17   | 13.79   | 1.21    | 0.5414  |\n",
       "| 436861  | 9106760 | 0.49    | 0.110   | 79.09   |  6.48   | 14.43   | 1.35    | 0.2831  |\n",
       "\n"
      ],
      "text/plain": [
       "  X      Y       ThetaS ThetaAvb PhiMicro PhiMeso PhiMacro Ds   S0    \n",
       "1 436550 9106770 0.33   0.106    62.65    11.56   25.79    1.51 0.3288\n",
       "2 436629 9106770 0.35   0.117    56.85    13.35   29.80    1.57 0.4254\n",
       "3 436709 9106752 0.48   0.141    80.11     8.22   11.67    1.39 0.2916\n",
       "4 436790 9106760 0.50   0.124    79.04     7.17   13.79    1.21 0.5414\n",
       "5 436861 9106760 0.49   0.110    79.09     6.48   14.43    1.35 0.2831"
      ]
     },
     "metadata": {},
     "output_type": "display_data"
    }
   ],
   "source": [
    "head(df1[1:9], n = 5)    # Show the first five elements of the colunms 1 to 9"
   ]
  },
  {
   "cell_type": "code",
   "execution_count": 18,
   "metadata": {},
   "outputs": [
    {
     "data": {
      "text/html": [
       "<ol class=list-inline>\n",
       "\t<li>0.33</li>\n",
       "\t<li>0.35</li>\n",
       "\t<li>0.48</li>\n",
       "\t<li>0.5</li>\n",
       "\t<li>0.49</li>\n",
       "\t<li>0.36</li>\n",
       "\t<li>0.42</li>\n",
       "\t<li>0.43</li>\n",
       "\t<li>0.46</li>\n",
       "\t<li>0.51</li>\n",
       "\t<li>0.39</li>\n",
       "\t<li>0.5</li>\n",
       "\t<li>0.5</li>\n",
       "\t<li>0.44</li>\n",
       "\t<li>0.5</li>\n",
       "\t<li>0.34</li>\n",
       "\t<li>0.43</li>\n",
       "\t<li>0.5</li>\n",
       "\t<li>0.45</li>\n",
       "\t<li>0.52</li>\n",
       "\t<li>0.41</li>\n",
       "\t<li>0.35</li>\n",
       "\t<li>0.47</li>\n",
       "\t<li>0.49</li>\n",
       "\t<li>0.54</li>\n",
       "\t<li>0.37</li>\n",
       "\t<li>0.38</li>\n",
       "\t<li>0.46</li>\n",
       "\t<li>0.47</li>\n",
       "\t<li>0.49</li>\n",
       "</ol>\n"
      ],
      "text/latex": [
       "\\begin{enumerate*}\n",
       "\\item 0.33\n",
       "\\item 0.35\n",
       "\\item 0.48\n",
       "\\item 0.5\n",
       "\\item 0.49\n",
       "\\item 0.36\n",
       "\\item 0.42\n",
       "\\item 0.43\n",
       "\\item 0.46\n",
       "\\item 0.51\n",
       "\\item 0.39\n",
       "\\item 0.5\n",
       "\\item 0.5\n",
       "\\item 0.44\n",
       "\\item 0.5\n",
       "\\item 0.34\n",
       "\\item 0.43\n",
       "\\item 0.5\n",
       "\\item 0.45\n",
       "\\item 0.52\n",
       "\\item 0.41\n",
       "\\item 0.35\n",
       "\\item 0.47\n",
       "\\item 0.49\n",
       "\\item 0.54\n",
       "\\item 0.37\n",
       "\\item 0.38\n",
       "\\item 0.46\n",
       "\\item 0.47\n",
       "\\item 0.49\n",
       "\\end{enumerate*}\n"
      ],
      "text/markdown": [
       "1. 0.33\n",
       "2. 0.35\n",
       "3. 0.48\n",
       "4. 0.5\n",
       "5. 0.49\n",
       "6. 0.36\n",
       "7. 0.42\n",
       "8. 0.43\n",
       "9. 0.46\n",
       "10. 0.51\n",
       "11. 0.39\n",
       "12. 0.5\n",
       "13. 0.5\n",
       "14. 0.44\n",
       "15. 0.5\n",
       "16. 0.34\n",
       "17. 0.43\n",
       "18. 0.5\n",
       "19. 0.45\n",
       "20. 0.52\n",
       "21. 0.41\n",
       "22. 0.35\n",
       "23. 0.47\n",
       "24. 0.49\n",
       "25. 0.54\n",
       "26. 0.37\n",
       "27. 0.38\n",
       "28. 0.46\n",
       "29. 0.47\n",
       "30. 0.49\n",
       "\n",
       "\n"
      ],
      "text/plain": [
       " [1] 0.33 0.35 0.48 0.50 0.49 0.36 0.42 0.43 0.46 0.51 0.39 0.50 0.50 0.44 0.50\n",
       "[16] 0.34 0.43 0.50 0.45 0.52 0.41 0.35 0.47 0.49 0.54 0.37 0.38 0.46 0.47 0.49"
      ]
     },
     "metadata": {},
     "output_type": "display_data"
    }
   ],
   "source": [
    "# Access variable from dataframe\n",
    "df1$ThetaS    # Use the \"$\" symbol to access a column by its name"
   ]
  },
  {
   "cell_type": "code",
   "execution_count": 19,
   "metadata": {},
   "outputs": [
    {
     "data": {
      "text/html": [
       "<table>\n",
       "<thead><tr><th scope=col>ThetaS</th></tr></thead>\n",
       "<tbody>\n",
       "\t<tr><td>0.33</td></tr>\n",
       "\t<tr><td>0.35</td></tr>\n",
       "\t<tr><td>0.48</td></tr>\n",
       "\t<tr><td>0.50</td></tr>\n",
       "\t<tr><td>0.49</td></tr>\n",
       "\t<tr><td>0.36</td></tr>\n",
       "\t<tr><td>0.42</td></tr>\n",
       "\t<tr><td>0.43</td></tr>\n",
       "\t<tr><td>0.46</td></tr>\n",
       "\t<tr><td>0.51</td></tr>\n",
       "\t<tr><td>0.39</td></tr>\n",
       "\t<tr><td>0.50</td></tr>\n",
       "\t<tr><td>0.50</td></tr>\n",
       "\t<tr><td>0.44</td></tr>\n",
       "\t<tr><td>0.50</td></tr>\n",
       "\t<tr><td>0.34</td></tr>\n",
       "\t<tr><td>0.43</td></tr>\n",
       "\t<tr><td>0.50</td></tr>\n",
       "\t<tr><td>0.45</td></tr>\n",
       "\t<tr><td>0.52</td></tr>\n",
       "\t<tr><td>0.41</td></tr>\n",
       "\t<tr><td>0.35</td></tr>\n",
       "\t<tr><td>0.47</td></tr>\n",
       "\t<tr><td>0.49</td></tr>\n",
       "\t<tr><td>0.54</td></tr>\n",
       "\t<tr><td>0.37</td></tr>\n",
       "\t<tr><td>0.38</td></tr>\n",
       "\t<tr><td>0.46</td></tr>\n",
       "\t<tr><td>0.47</td></tr>\n",
       "\t<tr><td>0.49</td></tr>\n",
       "</tbody>\n",
       "</table>\n"
      ],
      "text/latex": [
       "\\begin{tabular}{r|l}\n",
       " ThetaS\\\\\n",
       "\\hline\n",
       "\t 0.33\\\\\n",
       "\t 0.35\\\\\n",
       "\t 0.48\\\\\n",
       "\t 0.50\\\\\n",
       "\t 0.49\\\\\n",
       "\t 0.36\\\\\n",
       "\t 0.42\\\\\n",
       "\t 0.43\\\\\n",
       "\t 0.46\\\\\n",
       "\t 0.51\\\\\n",
       "\t 0.39\\\\\n",
       "\t 0.50\\\\\n",
       "\t 0.50\\\\\n",
       "\t 0.44\\\\\n",
       "\t 0.50\\\\\n",
       "\t 0.34\\\\\n",
       "\t 0.43\\\\\n",
       "\t 0.50\\\\\n",
       "\t 0.45\\\\\n",
       "\t 0.52\\\\\n",
       "\t 0.41\\\\\n",
       "\t 0.35\\\\\n",
       "\t 0.47\\\\\n",
       "\t 0.49\\\\\n",
       "\t 0.54\\\\\n",
       "\t 0.37\\\\\n",
       "\t 0.38\\\\\n",
       "\t 0.46\\\\\n",
       "\t 0.47\\\\\n",
       "\t 0.49\\\\\n",
       "\\end{tabular}\n"
      ],
      "text/markdown": [
       "\n",
       "| ThetaS |\n",
       "|---|\n",
       "| 0.33 |\n",
       "| 0.35 |\n",
       "| 0.48 |\n",
       "| 0.50 |\n",
       "| 0.49 |\n",
       "| 0.36 |\n",
       "| 0.42 |\n",
       "| 0.43 |\n",
       "| 0.46 |\n",
       "| 0.51 |\n",
       "| 0.39 |\n",
       "| 0.50 |\n",
       "| 0.50 |\n",
       "| 0.44 |\n",
       "| 0.50 |\n",
       "| 0.34 |\n",
       "| 0.43 |\n",
       "| 0.50 |\n",
       "| 0.45 |\n",
       "| 0.52 |\n",
       "| 0.41 |\n",
       "| 0.35 |\n",
       "| 0.47 |\n",
       "| 0.49 |\n",
       "| 0.54 |\n",
       "| 0.37 |\n",
       "| 0.38 |\n",
       "| 0.46 |\n",
       "| 0.47 |\n",
       "| 0.49 |\n",
       "\n"
      ],
      "text/plain": [
       "   ThetaS\n",
       "1  0.33  \n",
       "2  0.35  \n",
       "3  0.48  \n",
       "4  0.50  \n",
       "5  0.49  \n",
       "6  0.36  \n",
       "7  0.42  \n",
       "8  0.43  \n",
       "9  0.46  \n",
       "10 0.51  \n",
       "11 0.39  \n",
       "12 0.50  \n",
       "13 0.50  \n",
       "14 0.44  \n",
       "15 0.50  \n",
       "16 0.34  \n",
       "17 0.43  \n",
       "18 0.50  \n",
       "19 0.45  \n",
       "20 0.52  \n",
       "21 0.41  \n",
       "22 0.35  \n",
       "23 0.47  \n",
       "24 0.49  \n",
       "25 0.54  \n",
       "26 0.37  \n",
       "27 0.38  \n",
       "28 0.46  \n",
       "29 0.47  \n",
       "30 0.49  "
      ]
     },
     "metadata": {},
     "output_type": "display_data"
    }
   ],
   "source": [
    "df1[3]    # A different way to access the same column"
   ]
  },
  {
   "cell_type": "code",
   "execution_count": 20,
   "metadata": {},
   "outputs": [
    {
     "data": {
      "text/html": [
       "<ol class=list-inline>\n",
       "\t<li>'X'</li>\n",
       "\t<li>'Y'</li>\n",
       "\t<li>'ThetaS'</li>\n",
       "\t<li>'ThetaAvb'</li>\n",
       "\t<li>'PhiMicro'</li>\n",
       "\t<li>'PhiMeso'</li>\n",
       "\t<li>'PhiMacro'</li>\n",
       "\t<li>'Ds'</li>\n",
       "\t<li>'S0'</li>\n",
       "\t<li>'Ks'</li>\n",
       "\t<li>'Clay'</li>\n",
       "\t<li>'Silt'</li>\n",
       "\t<li>'Sand'</li>\n",
       "\t<li>'CSC'</li>\n",
       "\t<li>'MSC'</li>\n",
       "\t<li>'FSC'</li>\n",
       "\t<li>'idS'</li>\n",
       "\t<li>'Class'</li>\n",
       "</ol>\n"
      ],
      "text/latex": [
       "\\begin{enumerate*}\n",
       "\\item 'X'\n",
       "\\item 'Y'\n",
       "\\item 'ThetaS'\n",
       "\\item 'ThetaAvb'\n",
       "\\item 'PhiMicro'\n",
       "\\item 'PhiMeso'\n",
       "\\item 'PhiMacro'\n",
       "\\item 'Ds'\n",
       "\\item 'S0'\n",
       "\\item 'Ks'\n",
       "\\item 'Clay'\n",
       "\\item 'Silt'\n",
       "\\item 'Sand'\n",
       "\\item 'CSC'\n",
       "\\item 'MSC'\n",
       "\\item 'FSC'\n",
       "\\item 'idS'\n",
       "\\item 'Class'\n",
       "\\end{enumerate*}\n"
      ],
      "text/markdown": [
       "1. 'X'\n",
       "2. 'Y'\n",
       "3. 'ThetaS'\n",
       "4. 'ThetaAvb'\n",
       "5. 'PhiMicro'\n",
       "6. 'PhiMeso'\n",
       "7. 'PhiMacro'\n",
       "8. 'Ds'\n",
       "9. 'S0'\n",
       "10. 'Ks'\n",
       "11. 'Clay'\n",
       "12. 'Silt'\n",
       "13. 'Sand'\n",
       "14. 'CSC'\n",
       "15. 'MSC'\n",
       "16. 'FSC'\n",
       "17. 'idS'\n",
       "18. 'Class'\n",
       "\n",
       "\n"
      ],
      "text/plain": [
       " [1] \"X\"        \"Y\"        \"ThetaS\"   \"ThetaAvb\" \"PhiMicro\" \"PhiMeso\" \n",
       " [7] \"PhiMacro\" \"Ds\"       \"S0\"       \"Ks\"       \"Clay\"     \"Silt\"    \n",
       "[13] \"Sand\"     \"CSC\"      \"MSC\"      \"FSC\"      \"idS\"      \"Class\"   "
      ]
     },
     "metadata": {},
     "output_type": "display_data"
    }
   ],
   "source": [
    "# Names of all columns of the dataframe\n",
    "names(df1)"
   ]
  },
  {
   "cell_type": "code",
   "execution_count": 21,
   "metadata": {},
   "outputs": [
    {
     "data": {
      "text/html": [
       "18"
      ],
      "text/latex": [
       "18"
      ],
      "text/markdown": [
       "18"
      ],
      "text/plain": [
       "[1] 18"
      ]
     },
     "metadata": {},
     "output_type": "display_data"
    }
   ],
   "source": [
    "# Number of columns of the dataframe\n",
    "length(df1)"
   ]
  },
  {
   "cell_type": "code",
   "execution_count": 22,
   "metadata": {},
   "outputs": [],
   "source": [
    "# Attach data from dataframe to R\n",
    "attach(df1)"
   ]
  },
  {
   "cell_type": "code",
   "execution_count": 23,
   "metadata": {},
   "outputs": [
    {
     "data": {
      "text/html": [
       "<ol class=list-inline>\n",
       "\t<li>0.33</li>\n",
       "\t<li>0.35</li>\n",
       "\t<li>0.48</li>\n",
       "\t<li>0.5</li>\n",
       "\t<li>0.49</li>\n",
       "\t<li>0.36</li>\n",
       "\t<li>0.42</li>\n",
       "\t<li>0.43</li>\n",
       "\t<li>0.46</li>\n",
       "\t<li>0.51</li>\n",
       "\t<li>0.39</li>\n",
       "\t<li>0.5</li>\n",
       "\t<li>0.5</li>\n",
       "\t<li>0.44</li>\n",
       "\t<li>0.5</li>\n",
       "\t<li>0.34</li>\n",
       "\t<li>0.43</li>\n",
       "\t<li>0.5</li>\n",
       "\t<li>0.45</li>\n",
       "\t<li>0.52</li>\n",
       "\t<li>0.41</li>\n",
       "\t<li>0.35</li>\n",
       "\t<li>0.47</li>\n",
       "\t<li>0.49</li>\n",
       "\t<li>0.54</li>\n",
       "\t<li>0.37</li>\n",
       "\t<li>0.38</li>\n",
       "\t<li>0.46</li>\n",
       "\t<li>0.47</li>\n",
       "\t<li>0.49</li>\n",
       "</ol>\n"
      ],
      "text/latex": [
       "\\begin{enumerate*}\n",
       "\\item 0.33\n",
       "\\item 0.35\n",
       "\\item 0.48\n",
       "\\item 0.5\n",
       "\\item 0.49\n",
       "\\item 0.36\n",
       "\\item 0.42\n",
       "\\item 0.43\n",
       "\\item 0.46\n",
       "\\item 0.51\n",
       "\\item 0.39\n",
       "\\item 0.5\n",
       "\\item 0.5\n",
       "\\item 0.44\n",
       "\\item 0.5\n",
       "\\item 0.34\n",
       "\\item 0.43\n",
       "\\item 0.5\n",
       "\\item 0.45\n",
       "\\item 0.52\n",
       "\\item 0.41\n",
       "\\item 0.35\n",
       "\\item 0.47\n",
       "\\item 0.49\n",
       "\\item 0.54\n",
       "\\item 0.37\n",
       "\\item 0.38\n",
       "\\item 0.46\n",
       "\\item 0.47\n",
       "\\item 0.49\n",
       "\\end{enumerate*}\n"
      ],
      "text/markdown": [
       "1. 0.33\n",
       "2. 0.35\n",
       "3. 0.48\n",
       "4. 0.5\n",
       "5. 0.49\n",
       "6. 0.36\n",
       "7. 0.42\n",
       "8. 0.43\n",
       "9. 0.46\n",
       "10. 0.51\n",
       "11. 0.39\n",
       "12. 0.5\n",
       "13. 0.5\n",
       "14. 0.44\n",
       "15. 0.5\n",
       "16. 0.34\n",
       "17. 0.43\n",
       "18. 0.5\n",
       "19. 0.45\n",
       "20. 0.52\n",
       "21. 0.41\n",
       "22. 0.35\n",
       "23. 0.47\n",
       "24. 0.49\n",
       "25. 0.54\n",
       "26. 0.37\n",
       "27. 0.38\n",
       "28. 0.46\n",
       "29. 0.47\n",
       "30. 0.49\n",
       "\n",
       "\n"
      ],
      "text/plain": [
       " [1] 0.33 0.35 0.48 0.50 0.49 0.36 0.42 0.43 0.46 0.51 0.39 0.50 0.50 0.44 0.50\n",
       "[16] 0.34 0.43 0.50 0.45 0.52 0.41 0.35 0.47 0.49 0.54 0.37 0.38 0.46 0.47 0.49"
      ]
     },
     "metadata": {},
     "output_type": "display_data"
    }
   ],
   "source": [
    "ThetaS    # Now \"ThetaS\" exists in R"
   ]
  },
  {
   "cell_type": "code",
   "execution_count": 24,
   "metadata": {},
   "outputs": [],
   "source": [
    "# Pivot table -------------------------------------------------------------"
   ]
  },
  {
   "cell_type": "code",
   "execution_count": 1,
   "metadata": {},
   "outputs": [],
   "source": [
    "# Load data at hour scale\n",
    "df2 = read.table('Data_met_ST_hourly.txt', h = T)"
   ]
  },
  {
   "cell_type": "code",
   "execution_count": 3,
   "metadata": {},
   "outputs": [
    {
     "data": {
      "text/html": [
       "<table>\n",
       "<thead><tr><th scope=col>Day</th><th scope=col>Month</th><th scope=col>Year</th><th scope=col>Hour</th><th scope=col>temp_inst</th><th scope=col>temp_max</th><th scope=col>temp_min</th><th scope=col>rH_inst</th><th scope=col>rH_max</th><th scope=col>rH_min</th><th scope=col>dew_point_inst</th><th scope=col>dew_point_max</th><th scope=col>dew_point_min</th><th scope=col>pressure</th><th scope=col>pressure_max</th><th scope=col>pressure_min</th><th scope=col>wind_direction</th><th scope=col>windspeed</th><th scope=col>radiation</th><th scope=col>rain</th></tr></thead>\n",
       "<tbody>\n",
       "\t<tr><td>3    </td><td>7    </td><td>2017 </td><td>0    </td><td>21.7 </td><td>22.4 </td><td>21.7 </td><td>73   </td><td>73   </td><td>68   </td><td>16.7 </td><td>16.7 </td><td>16.3 </td><td>962.7</td><td>962.7</td><td>962.0</td><td>170  </td><td>3.1  </td><td>-3.04</td><td>0    </td></tr>\n",
       "\t<tr><td>3    </td><td>7    </td><td>2017 </td><td>1    </td><td>21.5 </td><td>21.8 </td><td>21.5 </td><td>76   </td><td>76   </td><td>73   </td><td>17.2 </td><td>17.2 </td><td>16.6 </td><td>962.6</td><td>962.7</td><td>962.6</td><td>162  </td><td>2.0  </td><td>-2.18</td><td>0    </td></tr>\n",
       "\t<tr><td>3    </td><td>7    </td><td>2017 </td><td>2    </td><td>20.5 </td><td>21.6 </td><td>20.5 </td><td>84   </td><td>84   </td><td>76   </td><td>17.7 </td><td>17.7 </td><td>17.1 </td><td>963.0</td><td>963.0</td><td>962.6</td><td>158  </td><td>2.4  </td><td>-2.62</td><td>0    </td></tr>\n",
       "\t<tr><td>3    </td><td>7    </td><td>2017 </td><td>3    </td><td>20.9 </td><td>21.0 </td><td>20.5 </td><td>76   </td><td>84   </td><td>76   </td><td>16.6 </td><td>17.6 </td><td>16.6 </td><td>963.0</td><td>963.0</td><td>962.9</td><td>165  </td><td>3.7  </td><td>-2.20</td><td>0    </td></tr>\n",
       "\t<tr><td>3    </td><td>7    </td><td>2017 </td><td>4    </td><td>20.6 </td><td>20.9 </td><td>20.6 </td><td>78   </td><td>78   </td><td>76   </td><td>16.6 </td><td>16.7 </td><td>16.5 </td><td>962.7</td><td>963.0</td><td>962.7</td><td>166  </td><td>3.4  </td><td>-1.97</td><td>0    </td></tr>\n",
       "</tbody>\n",
       "</table>\n"
      ],
      "text/latex": [
       "\\begin{tabular}{r|llllllllllllllllllll}\n",
       " Day & Month & Year & Hour & temp\\_inst & temp\\_max & temp\\_min & rH\\_inst & rH\\_max & rH\\_min & dew\\_point\\_inst & dew\\_point\\_max & dew\\_point\\_min & pressure & pressure\\_max & pressure\\_min & wind\\_direction & windspeed & radiation & rain\\\\\n",
       "\\hline\n",
       "\t 3     & 7     & 2017  & 0     & 21.7  & 22.4  & 21.7  & 73    & 73    & 68    & 16.7  & 16.7  & 16.3  & 962.7 & 962.7 & 962.0 & 170   & 3.1   & -3.04 & 0    \\\\\n",
       "\t 3     & 7     & 2017  & 1     & 21.5  & 21.8  & 21.5  & 76    & 76    & 73    & 17.2  & 17.2  & 16.6  & 962.6 & 962.7 & 962.6 & 162   & 2.0   & -2.18 & 0    \\\\\n",
       "\t 3     & 7     & 2017  & 2     & 20.5  & 21.6  & 20.5  & 84    & 84    & 76    & 17.7  & 17.7  & 17.1  & 963.0 & 963.0 & 962.6 & 158   & 2.4   & -2.62 & 0    \\\\\n",
       "\t 3     & 7     & 2017  & 3     & 20.9  & 21.0  & 20.5  & 76    & 84    & 76    & 16.6  & 17.6  & 16.6  & 963.0 & 963.0 & 962.9 & 165   & 3.7   & -2.20 & 0    \\\\\n",
       "\t 3     & 7     & 2017  & 4     & 20.6  & 20.9  & 20.6  & 78    & 78    & 76    & 16.6  & 16.7  & 16.5  & 962.7 & 963.0 & 962.7 & 166   & 3.4   & -1.97 & 0    \\\\\n",
       "\\end{tabular}\n"
      ],
      "text/markdown": [
       "\n",
       "| Day | Month | Year | Hour | temp_inst | temp_max | temp_min | rH_inst | rH_max | rH_min | dew_point_inst | dew_point_max | dew_point_min | pressure | pressure_max | pressure_min | wind_direction | windspeed | radiation | rain |\n",
       "|---|---|---|---|---|---|---|---|---|---|---|---|---|---|---|---|---|---|---|---|\n",
       "| 3     | 7     | 2017  | 0     | 21.7  | 22.4  | 21.7  | 73    | 73    | 68    | 16.7  | 16.7  | 16.3  | 962.7 | 962.7 | 962.0 | 170   | 3.1   | -3.04 | 0     |\n",
       "| 3     | 7     | 2017  | 1     | 21.5  | 21.8  | 21.5  | 76    | 76    | 73    | 17.2  | 17.2  | 16.6  | 962.6 | 962.7 | 962.6 | 162   | 2.0   | -2.18 | 0     |\n",
       "| 3     | 7     | 2017  | 2     | 20.5  | 21.6  | 20.5  | 84    | 84    | 76    | 17.7  | 17.7  | 17.1  | 963.0 | 963.0 | 962.6 | 158   | 2.4   | -2.62 | 0     |\n",
       "| 3     | 7     | 2017  | 3     | 20.9  | 21.0  | 20.5  | 76    | 84    | 76    | 16.6  | 17.6  | 16.6  | 963.0 | 963.0 | 962.9 | 165   | 3.7   | -2.20 | 0     |\n",
       "| 3     | 7     | 2017  | 4     | 20.6  | 20.9  | 20.6  | 78    | 78    | 76    | 16.6  | 16.7  | 16.5  | 962.7 | 963.0 | 962.7 | 166   | 3.4   | -1.97 | 0     |\n",
       "\n"
      ],
      "text/plain": [
       "  Day Month Year Hour temp_inst temp_max temp_min rH_inst rH_max rH_min\n",
       "1 3   7     2017 0    21.7      22.4     21.7     73      73     68    \n",
       "2 3   7     2017 1    21.5      21.8     21.5     76      76     73    \n",
       "3 3   7     2017 2    20.5      21.6     20.5     84      84     76    \n",
       "4 3   7     2017 3    20.9      21.0     20.5     76      84     76    \n",
       "5 3   7     2017 4    20.6      20.9     20.6     78      78     76    \n",
       "  dew_point_inst dew_point_max dew_point_min pressure pressure_max pressure_min\n",
       "1 16.7           16.7          16.3          962.7    962.7        962.0       \n",
       "2 17.2           17.2          16.6          962.6    962.7        962.6       \n",
       "3 17.7           17.7          17.1          963.0    963.0        962.6       \n",
       "4 16.6           17.6          16.6          963.0    963.0        962.9       \n",
       "5 16.6           16.7          16.5          962.7    963.0        962.7       \n",
       "  wind_direction windspeed radiation rain\n",
       "1 170            3.1       -3.04     0   \n",
       "2 162            2.0       -2.18     0   \n",
       "3 158            2.4       -2.62     0   \n",
       "4 165            3.7       -2.20     0   \n",
       "5 166            3.4       -1.97     0   "
      ]
     },
     "metadata": {},
     "output_type": "display_data"
    }
   ],
   "source": [
    "head(df2, n = 5)"
   ]
  },
  {
   "cell_type": "code",
   "execution_count": 5,
   "metadata": {},
   "outputs": [],
   "source": [
    "tair_mnt = tapply(df2$temp_inst, list(Month=df2$Month, Year = df2$Year), mean, na.rm = T)"
   ]
  },
  {
   "cell_type": "code",
   "execution_count": 6,
   "metadata": {},
   "outputs": [
    {
     "data": {
      "text/html": [
       "<table>\n",
       "<thead><tr><th scope=col>2017</th><th scope=col>2018</th></tr></thead>\n",
       "<tbody>\n",
       "\t<tr><td>      NA</td><td>27.35820</td></tr>\n",
       "\t<tr><td>      NA</td><td>26.26890</td></tr>\n",
       "\t<tr><td>      NA</td><td>25.61492</td></tr>\n",
       "\t<tr><td>      NA</td><td>24.40847</td></tr>\n",
       "\t<tr><td>      NA</td><td>24.58642</td></tr>\n",
       "\t<tr><td>      NA</td><td>24.86169</td></tr>\n",
       "\t<tr><td>21.30891</td><td>      NA</td></tr>\n",
       "\t<tr><td>23.76290</td><td>      NA</td></tr>\n",
       "\t<tr><td>24.18986</td><td>      NA</td></tr>\n",
       "\t<tr><td>26.74503</td><td>      NA</td></tr>\n",
       "\t<tr><td>28.44194</td><td>      NA</td></tr>\n",
       "\t<tr><td>28.58065</td><td>      NA</td></tr>\n",
       "</tbody>\n",
       "</table>\n"
      ],
      "text/latex": [
       "\\begin{tabular}{r|ll}\n",
       " 2017 & 2018\\\\\n",
       "\\hline\n",
       "\t       NA & 27.35820\\\\\n",
       "\t       NA & 26.26890\\\\\n",
       "\t       NA & 25.61492\\\\\n",
       "\t       NA & 24.40847\\\\\n",
       "\t       NA & 24.58642\\\\\n",
       "\t       NA & 24.86169\\\\\n",
       "\t 21.30891 &       NA\\\\\n",
       "\t 23.76290 &       NA\\\\\n",
       "\t 24.18986 &       NA\\\\\n",
       "\t 26.74503 &       NA\\\\\n",
       "\t 28.44194 &       NA\\\\\n",
       "\t 28.58065 &       NA\\\\\n",
       "\\end{tabular}\n"
      ],
      "text/markdown": [
       "\n",
       "| 2017 | 2018 |\n",
       "|---|---|\n",
       "|       NA | 27.35820 |\n",
       "|       NA | 26.26890 |\n",
       "|       NA | 25.61492 |\n",
       "|       NA | 24.40847 |\n",
       "|       NA | 24.58642 |\n",
       "|       NA | 24.86169 |\n",
       "| 21.30891 |       NA |\n",
       "| 23.76290 |       NA |\n",
       "| 24.18986 |       NA |\n",
       "| 26.74503 |       NA |\n",
       "| 28.44194 |       NA |\n",
       "| 28.58065 |       NA |\n",
       "\n"
      ],
      "text/plain": [
       "     Year\n",
       "Month 2017     2018    \n",
       "   1        NA 27.35820\n",
       "   2        NA 26.26890\n",
       "   3        NA 25.61492\n",
       "   4        NA 24.40847\n",
       "   5        NA 24.58642\n",
       "   6        NA 24.86169\n",
       "   7  21.30891       NA\n",
       "   8  23.76290       NA\n",
       "   9  24.18986       NA\n",
       "   10 26.74503       NA\n",
       "   11 28.44194       NA\n",
       "   12 28.58065       NA"
      ]
     },
     "metadata": {},
     "output_type": "display_data"
    }
   ],
   "source": [
    "tair_mnt"
   ]
  },
  {
   "cell_type": "code",
   "execution_count": 9,
   "metadata": {},
   "outputs": [
    {
     "data": {
      "text/html": [
       "<ol class=list-inline>\n",
       "\t<li>697</li>\n",
       "\t<li>698</li>\n",
       "\t<li>699</li>\n",
       "\t<li>700</li>\n",
       "\t<li>701</li>\n",
       "\t<li>702</li>\n",
       "\t<li>703</li>\n",
       "\t<li>704</li>\n",
       "\t<li>705</li>\n",
       "\t<li>706</li>\n",
       "\t<li>707</li>\n",
       "\t<li>708</li>\n",
       "\t<li>709</li>\n",
       "\t<li>710</li>\n",
       "\t<li>711</li>\n",
       "\t<li>712</li>\n",
       "\t<li>713</li>\n",
       "\t<li>714</li>\n",
       "\t<li>715</li>\n",
       "\t<li>716</li>\n",
       "\t<li>717</li>\n",
       "\t<li>718</li>\n",
       "\t<li>719</li>\n",
       "\t<li>720</li>\n",
       "\t<li>1441</li>\n",
       "\t<li>1442</li>\n",
       "\t<li>1443</li>\n",
       "\t<li>1444</li>\n",
       "\t<li>1445</li>\n",
       "\t<li>1446</li>\n",
       "\t<li>1447</li>\n",
       "\t<li>1448</li>\n",
       "\t<li>1449</li>\n",
       "\t<li>1450</li>\n",
       "\t<li>1451</li>\n",
       "\t<li>1452</li>\n",
       "\t<li>1453</li>\n",
       "\t<li>1454</li>\n",
       "\t<li>1455</li>\n",
       "\t<li>1456</li>\n",
       "\t<li>1457</li>\n",
       "\t<li>1458</li>\n",
       "\t<li>1459</li>\n",
       "\t<li>1460</li>\n",
       "\t<li>1461</li>\n",
       "\t<li>1462</li>\n",
       "\t<li>1463</li>\n",
       "\t<li>1464</li>\n",
       "\t<li>2161</li>\n",
       "\t<li>2162</li>\n",
       "\t<li>2163</li>\n",
       "\t<li>2164</li>\n",
       "\t<li>2165</li>\n",
       "\t<li>2166</li>\n",
       "\t<li>2167</li>\n",
       "\t<li>2168</li>\n",
       "\t<li>2169</li>\n",
       "\t<li>2170</li>\n",
       "\t<li>2171</li>\n",
       "\t<li>2172</li>\n",
       "\t<li>2173</li>\n",
       "\t<li>2174</li>\n",
       "\t<li>2175</li>\n",
       "\t<li>2176</li>\n",
       "\t<li>2177</li>\n",
       "\t<li>2178</li>\n",
       "\t<li>2179</li>\n",
       "\t<li>2180</li>\n",
       "\t<li>2181</li>\n",
       "\t<li>2182</li>\n",
       "\t<li>2183</li>\n",
       "\t<li>2184</li>\n",
       "\t<li>2905</li>\n",
       "\t<li>2906</li>\n",
       "\t<li>2907</li>\n",
       "\t<li>2908</li>\n",
       "\t<li>2909</li>\n",
       "\t<li>2910</li>\n",
       "\t<li>2911</li>\n",
       "\t<li>2912</li>\n",
       "\t<li>2913</li>\n",
       "\t<li>2914</li>\n",
       "\t<li>2915</li>\n",
       "\t<li>2916</li>\n",
       "\t<li>2917</li>\n",
       "\t<li>2918</li>\n",
       "\t<li>2919</li>\n",
       "\t<li>2920</li>\n",
       "\t<li>2921</li>\n",
       "\t<li>2922</li>\n",
       "\t<li>2923</li>\n",
       "\t<li>2924</li>\n",
       "\t<li>2925</li>\n",
       "\t<li>2926</li>\n",
       "\t<li>2927</li>\n",
       "\t<li>2928</li>\n",
       "\t<li>3625</li>\n",
       "\t<li>3626</li>\n",
       "\t<li>3627</li>\n",
       "\t<li>3628</li>\n",
       "\t<li>3629</li>\n",
       "\t<li>3630</li>\n",
       "\t<li>3631</li>\n",
       "\t<li>3632</li>\n",
       "\t<li>3633</li>\n",
       "\t<li>3634</li>\n",
       "\t<li>3635</li>\n",
       "\t<li>3636</li>\n",
       "\t<li>3637</li>\n",
       "\t<li>3638</li>\n",
       "\t<li>3639</li>\n",
       "\t<li>3640</li>\n",
       "\t<li>3641</li>\n",
       "\t<li>3642</li>\n",
       "\t<li>3643</li>\n",
       "\t<li>3644</li>\n",
       "\t<li>3645</li>\n",
       "\t<li>3646</li>\n",
       "\t<li>3647</li>\n",
       "\t<li>3648</li>\n",
       "</ol>\n"
      ],
      "text/latex": [
       "\\begin{enumerate*}\n",
       "\\item 697\n",
       "\\item 698\n",
       "\\item 699\n",
       "\\item 700\n",
       "\\item 701\n",
       "\\item 702\n",
       "\\item 703\n",
       "\\item 704\n",
       "\\item 705\n",
       "\\item 706\n",
       "\\item 707\n",
       "\\item 708\n",
       "\\item 709\n",
       "\\item 710\n",
       "\\item 711\n",
       "\\item 712\n",
       "\\item 713\n",
       "\\item 714\n",
       "\\item 715\n",
       "\\item 716\n",
       "\\item 717\n",
       "\\item 718\n",
       "\\item 719\n",
       "\\item 720\n",
       "\\item 1441\n",
       "\\item 1442\n",
       "\\item 1443\n",
       "\\item 1444\n",
       "\\item 1445\n",
       "\\item 1446\n",
       "\\item 1447\n",
       "\\item 1448\n",
       "\\item 1449\n",
       "\\item 1450\n",
       "\\item 1451\n",
       "\\item 1452\n",
       "\\item 1453\n",
       "\\item 1454\n",
       "\\item 1455\n",
       "\\item 1456\n",
       "\\item 1457\n",
       "\\item 1458\n",
       "\\item 1459\n",
       "\\item 1460\n",
       "\\item 1461\n",
       "\\item 1462\n",
       "\\item 1463\n",
       "\\item 1464\n",
       "\\item 2161\n",
       "\\item 2162\n",
       "\\item 2163\n",
       "\\item 2164\n",
       "\\item 2165\n",
       "\\item 2166\n",
       "\\item 2167\n",
       "\\item 2168\n",
       "\\item 2169\n",
       "\\item 2170\n",
       "\\item 2171\n",
       "\\item 2172\n",
       "\\item 2173\n",
       "\\item 2174\n",
       "\\item 2175\n",
       "\\item 2176\n",
       "\\item 2177\n",
       "\\item 2178\n",
       "\\item 2179\n",
       "\\item 2180\n",
       "\\item 2181\n",
       "\\item 2182\n",
       "\\item 2183\n",
       "\\item 2184\n",
       "\\item 2905\n",
       "\\item 2906\n",
       "\\item 2907\n",
       "\\item 2908\n",
       "\\item 2909\n",
       "\\item 2910\n",
       "\\item 2911\n",
       "\\item 2912\n",
       "\\item 2913\n",
       "\\item 2914\n",
       "\\item 2915\n",
       "\\item 2916\n",
       "\\item 2917\n",
       "\\item 2918\n",
       "\\item 2919\n",
       "\\item 2920\n",
       "\\item 2921\n",
       "\\item 2922\n",
       "\\item 2923\n",
       "\\item 2924\n",
       "\\item 2925\n",
       "\\item 2926\n",
       "\\item 2927\n",
       "\\item 2928\n",
       "\\item 3625\n",
       "\\item 3626\n",
       "\\item 3627\n",
       "\\item 3628\n",
       "\\item 3629\n",
       "\\item 3630\n",
       "\\item 3631\n",
       "\\item 3632\n",
       "\\item 3633\n",
       "\\item 3634\n",
       "\\item 3635\n",
       "\\item 3636\n",
       "\\item 3637\n",
       "\\item 3638\n",
       "\\item 3639\n",
       "\\item 3640\n",
       "\\item 3641\n",
       "\\item 3642\n",
       "\\item 3643\n",
       "\\item 3644\n",
       "\\item 3645\n",
       "\\item 3646\n",
       "\\item 3647\n",
       "\\item 3648\n",
       "\\end{enumerate*}\n"
      ],
      "text/markdown": [
       "1. 697\n",
       "2. 698\n",
       "3. 699\n",
       "4. 700\n",
       "5. 701\n",
       "6. 702\n",
       "7. 703\n",
       "8. 704\n",
       "9. 705\n",
       "10. 706\n",
       "11. 707\n",
       "12. 708\n",
       "13. 709\n",
       "14. 710\n",
       "15. 711\n",
       "16. 712\n",
       "17. 713\n",
       "18. 714\n",
       "19. 715\n",
       "20. 716\n",
       "21. 717\n",
       "22. 718\n",
       "23. 719\n",
       "24. 720\n",
       "25. 1441\n",
       "26. 1442\n",
       "27. 1443\n",
       "28. 1444\n",
       "29. 1445\n",
       "30. 1446\n",
       "31. 1447\n",
       "32. 1448\n",
       "33. 1449\n",
       "34. 1450\n",
       "35. 1451\n",
       "36. 1452\n",
       "37. 1453\n",
       "38. 1454\n",
       "39. 1455\n",
       "40. 1456\n",
       "41. 1457\n",
       "42. 1458\n",
       "43. 1459\n",
       "44. 1460\n",
       "45. 1461\n",
       "46. 1462\n",
       "47. 1463\n",
       "48. 1464\n",
       "49. 2161\n",
       "50. 2162\n",
       "51. 2163\n",
       "52. 2164\n",
       "53. 2165\n",
       "54. 2166\n",
       "55. 2167\n",
       "56. 2168\n",
       "57. 2169\n",
       "58. 2170\n",
       "59. 2171\n",
       "60. 2172\n",
       "61. 2173\n",
       "62. 2174\n",
       "63. 2175\n",
       "64. 2176\n",
       "65. 2177\n",
       "66. 2178\n",
       "67. 2179\n",
       "68. 2180\n",
       "69. 2181\n",
       "70. 2182\n",
       "71. 2183\n",
       "72. 2184\n",
       "73. 2905\n",
       "74. 2906\n",
       "75. 2907\n",
       "76. 2908\n",
       "77. 2909\n",
       "78. 2910\n",
       "79. 2911\n",
       "80. 2912\n",
       "81. 2913\n",
       "82. 2914\n",
       "83. 2915\n",
       "84. 2916\n",
       "85. 2917\n",
       "86. 2918\n",
       "87. 2919\n",
       "88. 2920\n",
       "89. 2921\n",
       "90. 2922\n",
       "91. 2923\n",
       "92. 2924\n",
       "93. 2925\n",
       "94. 2926\n",
       "95. 2927\n",
       "96. 2928\n",
       "97. 3625\n",
       "98. 3626\n",
       "99. 3627\n",
       "100. 3628\n",
       "101. 3629\n",
       "102. 3630\n",
       "103. 3631\n",
       "104. 3632\n",
       "105. 3633\n",
       "106. 3634\n",
       "107. 3635\n",
       "108. 3636\n",
       "109. 3637\n",
       "110. 3638\n",
       "111. 3639\n",
       "112. 3640\n",
       "113. 3641\n",
       "114. 3642\n",
       "115. 3643\n",
       "116. 3644\n",
       "117. 3645\n",
       "118. 3646\n",
       "119. 3647\n",
       "120. 3648\n",
       "\n",
       "\n"
      ],
      "text/plain": [
       "  [1]  697  698  699  700  701  702  703  704  705  706  707  708  709  710  711\n",
       " [16]  712  713  714  715  716  717  718  719  720 1441 1442 1443 1444 1445 1446\n",
       " [31] 1447 1448 1449 1450 1451 1452 1453 1454 1455 1456 1457 1458 1459 1460 1461\n",
       " [46] 1462 1463 1464 2161 2162 2163 2164 2165 2166 2167 2168 2169 2170 2171 2172\n",
       " [61] 2173 2174 2175 2176 2177 2178 2179 2180 2181 2182 2183 2184 2905 2906 2907\n",
       " [76] 2908 2909 2910 2911 2912 2913 2914 2915 2916 2917 2918 2919 2920 2921 2922\n",
       " [91] 2923 2924 2925 2926 2927 2928 3625 3626 3627 3628 3629 3630 3631 3632 3633\n",
       "[106] 3634 3635 3636 3637 3638 3639 3640 3641 3642 3643 3644 3645 3646 3647 3648"
      ]
     },
     "metadata": {},
     "output_type": "display_data"
    }
   ],
   "source": [
    "# Filtering data ----------------------------------------------------------\n",
    "id1 = which(df2$Day==1 & df2$Year==2017) # Take the first days of all months in 2017\n",
    "id1                                      # The positions of first days"
   ]
  },
  {
   "cell_type": "code",
   "execution_count": 11,
   "metadata": {},
   "outputs": [
    {
     "data": {
      "text/html": [
       "26.1258333333333"
      ],
      "text/latex": [
       "26.1258333333333"
      ],
      "text/markdown": [
       "26.1258333333333"
      ],
      "text/plain": [
       "[1] 26.12583"
      ]
     },
     "metadata": {},
     "output_type": "display_data"
    }
   ],
   "source": [
    "mean(df2$temp_inst[id1])    # The mean of the temperature of all first days"
   ]
  },
  {
   "cell_type": "code",
   "execution_count": 12,
   "metadata": {},
   "outputs": [
    {
     "data": {
      "text/plain": [
       "      Day            Month             Year           Hour      \n",
       " Min.   : 1.00   Min.   : 1.000   Min.   :2017   Min.   : 0.00  \n",
       " 1st Qu.: 8.00   1st Qu.: 3.000   1st Qu.:2017   1st Qu.: 5.00  \n",
       " Median :15.00   Median : 7.000   Median :2017   Median :11.00  \n",
       " Mean   :15.52   Mean   : 6.553   Mean   :2017   Mean   :11.49  \n",
       " 3rd Qu.:23.00   3rd Qu.:10.000   3rd Qu.:2018   3rd Qu.:17.00  \n",
       " Max.   :31.00   Max.   :12.000   Max.   :2018   Max.   :23.00  \n",
       "   temp_inst        temp_max        temp_min        rH_inst     \n",
       " Min.   :15.80   Min.   :16.20   Min.   :14.80   Min.   :10.00  \n",
       " 1st Qu.:22.30   1st Qu.:22.80   1st Qu.:21.90   1st Qu.:40.00  \n",
       " Median :24.90   Median :25.70   Median :24.20   Median :59.00  \n",
       " Mean   :25.57   Mean   :26.26   Mean   :24.92   Mean   :56.26  \n",
       " 3rd Qu.:28.70   3rd Qu.:29.60   3rd Qu.:27.80   3rd Qu.:73.00  \n",
       " Max.   :37.00   Max.   :37.90   Max.   :36.30   Max.   :91.00  \n",
       "     rH_max          rH_min      dew_point_inst  dew_point_max  \n",
       " Min.   :11.00   Min.   :10.00   Min.   :-1.80   Min.   :-1.30  \n",
       " 1st Qu.:44.00   1st Qu.:37.00   1st Qu.:13.20   1st Qu.:13.90  \n",
       " Median :62.00   Median :55.00   Median :15.50   Median :15.90  \n",
       " Mean   :59.09   Mean   :53.44   Mean   :15.02   Mean   :15.57  \n",
       " 3rd Qu.:75.00   3rd Qu.:70.00   3rd Qu.:17.30   3rd Qu.:17.80  \n",
       " Max.   :91.00   Max.   :90.00   Max.   :21.80   Max.   :22.20  \n",
       " dew_point_min      pressure      pressure_max    pressure_min  \n",
       " Min.   :-2.00   Min.   :949.5   Min.   :949.7   Min.   :949.4  \n",
       " 1st Qu.:12.50   1st Qu.:955.0   1st Qu.:955.3   1st Qu.:954.7  \n",
       " Median :15.10   Median :956.9   Median :957.2   Median :956.7  \n",
       " Mean   :14.49   Mean   :957.1   Mean   :957.3   Mean   :956.8  \n",
       " 3rd Qu.:16.90   3rd Qu.:959.1   3rd Qu.:959.4   3rd Qu.:958.8  \n",
       " Max.   :21.40   Max.   :964.7   Max.   :964.8   Max.   :964.6  \n",
       " wind_direction    windspeed       radiation            rain         \n",
       " Min.   :  1.0   Min.   :0.100   Min.   :  -3.54   Min.   : 0.00000  \n",
       " 1st Qu.:146.0   1st Qu.:1.600   1st Qu.:  -3.53   1st Qu.: 0.00000  \n",
       " Median :169.0   Median :2.500   Median :  25.46   Median : 0.00000  \n",
       " Mean   :167.2   Mean   :2.612   Mean   : 851.99   Mean   : 0.04988  \n",
       " 3rd Qu.:190.0   3rd Qu.:3.500   3rd Qu.:1676.00   3rd Qu.: 0.00000  \n",
       " Max.   :360.0   Max.   :8.500   Max.   :4052.00   Max.   :23.80000  "
      ]
     },
     "metadata": {},
     "output_type": "display_data"
    }
   ],
   "source": [
    "# Summarize data\n",
    "summary(df2)"
   ]
  }
 ],
 "metadata": {
  "kernelspec": {
   "display_name": "R",
   "language": "R",
   "name": "ir"
  },
  "language_info": {
   "codemirror_mode": "r",
   "file_extension": ".r",
   "mimetype": "text/x-r-source",
   "name": "R",
   "pygments_lexer": "r",
   "version": "3.5.3"
  }
 },
 "nbformat": 4,
 "nbformat_minor": 2
}
