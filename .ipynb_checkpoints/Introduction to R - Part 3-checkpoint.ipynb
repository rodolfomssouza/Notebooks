{
 "cells": [
  {
   "cell_type": "code",
   "execution_count": 1,
   "metadata": {},
   "outputs": [],
   "source": [
    "# This is a notebook with codes/scripts used during the classes of\n",
    "# data analysis with R\n",
    "# Rodolfo Souza - rodolfomssouza@gmail.com"
   ]
  },
  {
   "cell_type": "code",
   "execution_count": 2,
   "metadata": {},
   "outputs": [],
   "source": [
    "# Introduction to R - Part 3"
   ]
  },
  {
   "cell_type": "code",
   "execution_count": 3,
   "metadata": {},
   "outputs": [],
   "source": [
    "# Functions ---------------------------------------------------------------"
   ]
  },
  {
   "cell_type": "code",
   "execution_count": 4,
   "metadata": {},
   "outputs": [],
   "source": [
    "f1 = function(x, y){\n",
    "    z = x^2/y^0.5\n",
    "    return(z)\n",
    "}"
   ]
  },
  {
   "cell_type": "code",
   "execution_count": 5,
   "metadata": {},
   "outputs": [
    {
     "data": {
      "text/html": [
       "7.15541752799933"
      ],
      "text/latex": [
       "7.15541752799933"
      ],
      "text/markdown": [
       "7.15541752799933"
      ],
      "text/plain": [
       "[1] 7.155418"
      ]
     },
     "metadata": {},
     "output_type": "display_data"
    }
   ],
   "source": [
    "f1(4, 5)"
   ]
  },
  {
   "cell_type": "code",
   "execution_count": 6,
   "metadata": {},
   "outputs": [
    {
     "data": {
      "text/html": [
       "12.5"
      ],
      "text/latex": [
       "12.5"
      ],
      "text/markdown": [
       "12.5"
      ],
      "text/plain": [
       "[1] 12.5"
      ]
     },
     "metadata": {},
     "output_type": "display_data"
    }
   ],
   "source": [
    "f1(5, 4)"
   ]
  },
  {
   "cell_type": "code",
   "execution_count": 7,
   "metadata": {},
   "outputs": [],
   "source": [
    "# Conditions --------------------------------------------------------------"
   ]
  },
  {
   "cell_type": "code",
   "execution_count": 8,
   "metadata": {},
   "outputs": [
    {
     "name": "stdout",
     "output_type": "stream",
     "text": [
      "[1] \"X is large\"\n"
     ]
    },
    {
     "data": {
      "text/html": [
       "2"
      ],
      "text/latex": [
       "2"
      ],
      "text/markdown": [
       "2"
      ],
      "text/plain": [
       "[1] 2"
      ]
     },
     "metadata": {},
     "output_type": "display_data"
    }
   ],
   "source": [
    "# Two conditions\n",
    "x = 4\n",
    "\n",
    "if(x<=3){print('X is small')}else{print('X is large')}\n",
    "\n",
    "if(x<=3){x^2}else{x/2}     # Maths"
   ]
  },
  {
   "cell_type": "code",
   "execution_count": 9,
   "metadata": {},
   "outputs": [
    {
     "data": {
      "text/html": [
       "16"
      ],
      "text/latex": [
       "16"
      ],
      "text/markdown": [
       "16"
      ],
      "text/plain": [
       "[1] 16"
      ]
     },
     "metadata": {},
     "output_type": "display_data"
    }
   ],
   "source": [
    "# Conditions with ifelse\n",
    "ifelse(x<=30,  # Test the condition\n",
    "       x^2,    # if yes\n",
    "       x^0.5)  # if not"
   ]
  },
  {
   "cell_type": "code",
   "execution_count": 10,
   "metadata": {},
   "outputs": [
    {
     "data": {
      "text/html": [
       "100"
      ],
      "text/latex": [
       "100"
      ],
      "text/markdown": [
       "100"
      ],
      "text/plain": [
       "[1] 100"
      ]
     },
     "metadata": {},
     "output_type": "display_data"
    }
   ],
   "source": [
    "# More than two conditions\n",
    "x = -10\n",
    "if(x<=2){                    # if x <= 2, do x^2\n",
    "    x^2}else if(x>2 & x<=5){ # if x > 2 and x <= 5, do x^3\n",
    "        x^3\n",
    "    }else{x/2}               # otherwise (x > 5), do x/2\n",
    "\n",
    "# Test with other values of x!"
   ]
  },
  {
   "cell_type": "code",
   "execution_count": 11,
   "metadata": {},
   "outputs": [
    {
     "data": {
      "text/html": [
       "<ol class=list-inline>\n",
       "\t<li>2</li>\n",
       "\t<li>4</li>\n",
       "\t<li>6</li>\n",
       "\t<li>8</li>\n",
       "\t<li>10</li>\n",
       "\t<li>12</li>\n",
       "\t<li>14</li>\n",
       "\t<li>16</li>\n",
       "\t<li>18</li>\n",
       "\t<li>20</li>\n",
       "\t<li>22</li>\n",
       "\t<li>24</li>\n",
       "\t<li>26</li>\n",
       "\t<li>28</li>\n",
       "\t<li>30</li>\n",
       "</ol>\n"
      ],
      "text/latex": [
       "\\begin{enumerate*}\n",
       "\\item 2\n",
       "\\item 4\n",
       "\\item 6\n",
       "\\item 8\n",
       "\\item 10\n",
       "\\item 12\n",
       "\\item 14\n",
       "\\item 16\n",
       "\\item 18\n",
       "\\item 20\n",
       "\\item 22\n",
       "\\item 24\n",
       "\\item 26\n",
       "\\item 28\n",
       "\\item 30\n",
       "\\end{enumerate*}\n"
      ],
      "text/markdown": [
       "1. 2\n",
       "2. 4\n",
       "3. 6\n",
       "4. 8\n",
       "5. 10\n",
       "6. 12\n",
       "7. 14\n",
       "8. 16\n",
       "9. 18\n",
       "10. 20\n",
       "11. 22\n",
       "12. 24\n",
       "13. 26\n",
       "14. 28\n",
       "15. 30\n",
       "\n",
       "\n"
      ],
      "text/plain": [
       " [1]  2  4  6  8 10 12 14 16 18 20 22 24 26 28 30"
      ]
     },
     "metadata": {},
     "output_type": "display_data"
    }
   ],
   "source": [
    "# Loops for ---------------------------------------------------------------\n",
    "\n",
    "# without a \"loop\"\n",
    "x = 1:15\n",
    "2*x"
   ]
  },
  {
   "cell_type": "code",
   "execution_count": 12,
   "metadata": {},
   "outputs": [
    {
     "name": "stdout",
     "output_type": "stream",
     "text": [
      "[1] 1.640843\n",
      "[1] 2.405856\n",
      "[1] 2.535228\n",
      "[1] 0.3214631\n",
      "[1] -2.367271\n",
      "[1] 3.17694\n",
      "[1] 3.25114\n",
      "[1] 3.467852\n",
      "[1] 3.239231\n",
      "[1] 0.2680396\n",
      "[1] 0.8311333\n",
      "[1] 0.1269834\n",
      "[1] -0.6583051\n",
      "[1] -1.911313\n",
      "[1] 1.690866\n"
     ]
    }
   ],
   "source": [
    "x = rnorm(15, 0,1)\n",
    "# Simple loop\n",
    "for(i in 1:length(x)){\n",
    "    print(2*x[i])\n",
    "}"
   ]
  },
  {
   "cell_type": "code",
   "execution_count": 13,
   "metadata": {},
   "outputs": [
    {
     "data": {
      "text/html": [
       "<table>\n",
       "<tbody>\n",
       "\t<tr><td>1 </td><td> 6</td><td>11</td><td>16</td><td>21</td></tr>\n",
       "\t<tr><td>2 </td><td> 7</td><td>12</td><td>17</td><td>22</td></tr>\n",
       "\t<tr><td>3 </td><td> 8</td><td>13</td><td>18</td><td>23</td></tr>\n",
       "\t<tr><td>4 </td><td> 9</td><td>14</td><td>19</td><td>24</td></tr>\n",
       "\t<tr><td>5 </td><td>10</td><td>15</td><td>20</td><td>25</td></tr>\n",
       "</tbody>\n",
       "</table>\n"
      ],
      "text/latex": [
       "\\begin{tabular}{lllll}\n",
       "\t 1  &  6 & 11 & 16 & 21\\\\\n",
       "\t 2  &  7 & 12 & 17 & 22\\\\\n",
       "\t 3  &  8 & 13 & 18 & 23\\\\\n",
       "\t 4  &  9 & 14 & 19 & 24\\\\\n",
       "\t 5  & 10 & 15 & 20 & 25\\\\\n",
       "\\end{tabular}\n"
      ],
      "text/markdown": [
       "\n",
       "| 1  |  6 | 11 | 16 | 21 |\n",
       "| 2  |  7 | 12 | 17 | 22 |\n",
       "| 3  |  8 | 13 | 18 | 23 |\n",
       "| 4  |  9 | 14 | 19 | 24 |\n",
       "| 5  | 10 | 15 | 20 | 25 |\n",
       "\n"
      ],
      "text/plain": [
       "     [,1] [,2] [,3] [,4] [,5]\n",
       "[1,] 1     6   11   16   21  \n",
       "[2,] 2     7   12   17   22  \n",
       "[3,] 3     8   13   18   23  \n",
       "[4,] 4     9   14   19   24  \n",
       "[5,] 5    10   15   20   25  "
      ]
     },
     "metadata": {},
     "output_type": "display_data"
    },
    {
     "name": "stdout",
     "output_type": "stream",
     "text": [
      "[1] 1\n",
      "[1] 7\n",
      "[1] 13\n",
      "[1] 19\n",
      "[1] 25\n"
     ]
    }
   ],
   "source": [
    "# Nested loop\n",
    "m = matrix(data=1:25, ncol=5, nrow=5)\n",
    "m\n",
    "\n",
    "for(i in 1:length(m[1,])){\n",
    "    for(j in 1:length(m[,1])){\n",
    "        if(i==j){print(m[i,j])}\n",
    "    }\n",
    "}"
   ]
  },
  {
   "cell_type": "code",
   "execution_count": 14,
   "metadata": {},
   "outputs": [],
   "source": [
    "# Function, loops and conditions ------------------------------------------\n",
    "Itcp = function(R, Rth){\n",
    "    # R is the rain\n",
    "    # Rth is a threshold value\n",
    "    nr = length(R)      # Number or \"runs\"\n",
    "    y = rep(NA, nr)     # Vector will receive the results\n",
    "    for(i in 1:nr){\n",
    "        if(R[i]<=Rth){y[i]=R[i]}\n",
    "        else{y[i]=Rth}\n",
    "    }\n",
    "    return(y)\n",
    "}\n",
    "\n",
    "# Run the function\n",
    "x = seq(0, 30, 0.1)\n",
    "y = Itcp(R=x, Rth=5)"
   ]
  },
  {
   "cell_type": "code",
   "execution_count": 15,
   "metadata": {},
   "outputs": [
    {
     "data": {
      "image/png": "[encoded data removed]",
      "text/plain": [
       "plot without title"
      ]
     },
     "metadata": {},
     "output_type": "display_data"
    }
   ],
   "source": [
    "# Graphic\n",
    "par(mfrow=c(1,2), las=1, family='serif')\n",
    "\n",
    "# Rain vs interception\n",
    "plot(x, y, type='l', lwd=2, col='blue',\n",
    "     xlab='Rain (mm)', ylab='Interception (mm)')\n",
    "\n",
    "# Rain vs %rain intercepted\n",
    "plot(x, 100*(y/x), type='l', lwd=2, col='blue',\n",
    "     xlab='Rain (mm)', ylab='% Rain intercepted')"
   ]
  }
 ],
 "metadata": {
  "kernelspec": {
   "display_name": "R",
   "language": "R",
   "name": "ir"
  },
  "language_info": {
   "codemirror_mode": "r",
   "file_extension": ".r",
   "mimetype": "text/x-r-source",
   "name": "R",
   "pygments_lexer": "r",
   "version": "3.5.3"
  }
 },
 "nbformat": 4,
 "nbformat_minor": 2
}
